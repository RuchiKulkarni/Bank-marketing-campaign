{
 "cells": [
  {
   "cell_type": "markdown",
   "id": "daa2f03f-4730-4f5d-8859-9806cb7a4978",
   "metadata": {},
   "source": [
    "### **I  analyze and predict customer  interactions and campaign effectiveness in insurance**\n",
    "* I get data from Kaggle\n",
    "* Inspected the data to understand its structure and content.\n",
    "* In this data there are diffrent column -\n",
    "  * age_group: The age group of the customer ex:-30-39,18-20\n",
    "  * occupation: The occupation of the customer ex:-executive, technician\n",
    "  * marital_status: The marital status of the customer ex:- married, single, divorced.\n",
    "  * education_level: The highest education level attained by the customer ex:- high_school, college\n",
    "  * communication_channel: The communication channel used for contacting the customer ex:-mobile, landline\n",
    "  * call_day: The day of the month on which the call was made ex:-5, 15, 25\n",
    "  * call_month: The month of the year in which the call was made ex:- January, May\n",
    "  * call_duration: The duration of the call in seconds ex:-180, 300\n",
    "  * call_frequency: The frequency of calls made to the customer ex:-1,3,5\n",
    "  * previous_campaign_outcome: The outcome of the previous marketing campaign for the customer ex:-unsuccessful, successful\n",
    "  * conversion_status: Whether the customer was converted or not.ex:-converted, not_converted\n",
    "#### **Data Cleaning**\n",
    "   * I have done data cleaning such as identify duplicates value ,null value,handling outliers etc prepare the data for modeling.\n",
    "#### __Exploratory Data Analysis (EDA)__\n",
    "   * I have done EDA on different column that could be useful for predictive modeling like Visualizations(histograms, bar plots, correlation)\n",
    "#### **Model Building**\n",
    "   * I have try various machine learning algorithms like , Random Forest, Decision Tree, and other models.I trained these models on the dataset to    predict customer conversion.\n",
    "#### **Model Evaluation**\n",
    "   * i have train model using accuracy score, r2 score.\n",
    "#### **Model Selection**\n",
    "  * after evalution i have select best model for customer interactions & campaign effectiveness in insurance.\n"
   ]
  },
  {
   "cell_type": "markdown",
   "id": "c7c7e993-ec1a-4e92-b7e5-e82b9658e62a",
   "metadata": {},
   "source": [
    "#### Importing all the necessary libraries"
   ]
  },
  {
   "cell_type": "code",
   "execution_count": 1,
   "id": "e71d8a6f-72e4-42d4-b048-c95febb72d3b",
   "metadata": {},
   "outputs": [],
   "source": [
    "import pandas as pd\n",
    "import numpy as np\n",
    "import matplotlib.pyplot as plt\n",
    "import seaborn as sns\n",
    "from sklearn.model_selection import train_test_split\n",
    "from sklearn.linear_model import LinearRegression\n",
    "from sklearn.linear_model import LogisticRegression\n",
    "from sklearn.tree import DecisionTreeRegressor\n",
    "from sklearn.ensemble import RandomForestClassifier\n",
    "from sklearn.metrics import accuracy_score,r2_score,mean_squared_error,confusion_matrix\n",
    "from sklearn.neighbors import KNeighborsClassifier\n",
    "import warnings\n",
    "warnings.filterwarnings(\"ignore\")"
   ]
  },
  {
   "cell_type": "markdown",
   "id": "a7fbade6-7208-4ebe-b5c3-6efedb94f8f3",
   "metadata": {},
   "source": [
    "#### The file format of data is csv that why i have taken read_csv."
   ]
  },
  {
   "cell_type": "code",
   "execution_count": 2,
   "id": "7cd350eb-abd4-4a88-be32-2e670151c043",
   "metadata": {},
   "outputs": [],
   "source": [
    "df=pd.read_csv(\"dataset.csv\")"
   ]
  },
  {
   "cell_type": "code",
   "execution_count": 3,
   "id": "41154f87-7525-43d2-9cd0-db6a44243f0a",
   "metadata": {},
   "outputs": [],
   "source": [
    "data=df.copy()"
   ]
  },
  {
   "cell_type": "markdown",
   "id": "01d3e09b-528e-4816-89b4-d0374fa6a8c4",
   "metadata": {},
   "source": [
    "#### By using head() we get top 5 row."
   ]
  },
  {
   "cell_type": "code",
   "execution_count": 4,
   "id": "9ff8a02d-9c17-4ecf-8e71-f893f1b5336c",
   "metadata": {},
   "outputs": [
    {
     "data": {
      "text/html": [
       "<div>\n",
       "<style scoped>\n",
       "    .dataframe tbody tr th:only-of-type {\n",
       "        vertical-align: middle;\n",
       "    }\n",
       "\n",
       "    .dataframe tbody tr th {\n",
       "        vertical-align: top;\n",
       "    }\n",
       "\n",
       "    .dataframe thead th {\n",
       "        text-align: right;\n",
       "    }\n",
       "</style>\n",
       "<table border=\"1\" class=\"dataframe\">\n",
       "  <thead>\n",
       "    <tr style=\"text-align: right;\">\n",
       "      <th></th>\n",
       "      <th>occupation</th>\n",
       "      <th>age</th>\n",
       "      <th>education_level</th>\n",
       "      <th>marital_status</th>\n",
       "      <th>communication_channel</th>\n",
       "      <th>call_month</th>\n",
       "      <th>call_day</th>\n",
       "      <th>call_duration</th>\n",
       "      <th>call_frequency</th>\n",
       "      <th>previous_campaign_outcome</th>\n",
       "      <th>conversion_status</th>\n",
       "    </tr>\n",
       "  </thead>\n",
       "  <tbody>\n",
       "    <tr>\n",
       "      <th>0</th>\n",
       "      <td>administrative_staff</td>\n",
       "      <td>28</td>\n",
       "      <td>high_school</td>\n",
       "      <td>married</td>\n",
       "      <td>unidentified</td>\n",
       "      <td>September</td>\n",
       "      <td>9</td>\n",
       "      <td>1</td>\n",
       "      <td>1</td>\n",
       "      <td>successful</td>\n",
       "      <td>not_converted</td>\n",
       "    </tr>\n",
       "    <tr>\n",
       "      <th>1</th>\n",
       "      <td>administrative_staff</td>\n",
       "      <td>58</td>\n",
       "      <td>unidentified</td>\n",
       "      <td>married</td>\n",
       "      <td>unidentified</td>\n",
       "      <td>June</td>\n",
       "      <td>5</td>\n",
       "      <td>307</td>\n",
       "      <td>2</td>\n",
       "      <td>unidentified</td>\n",
       "      <td>not_converted</td>\n",
       "    </tr>\n",
       "    <tr>\n",
       "      <th>2</th>\n",
       "      <td>jobless</td>\n",
       "      <td>40</td>\n",
       "      <td>high_school</td>\n",
       "      <td>divorced</td>\n",
       "      <td>mobile</td>\n",
       "      <td>February</td>\n",
       "      <td>4</td>\n",
       "      <td>113</td>\n",
       "      <td>1</td>\n",
       "      <td>unidentified</td>\n",
       "      <td>not_converted</td>\n",
       "    </tr>\n",
       "    <tr>\n",
       "      <th>3</th>\n",
       "      <td>retired_worker</td>\n",
       "      <td>63</td>\n",
       "      <td>high_school</td>\n",
       "      <td>married</td>\n",
       "      <td>mobile</td>\n",
       "      <td>April</td>\n",
       "      <td>7</td>\n",
       "      <td>72</td>\n",
       "      <td>5</td>\n",
       "      <td>unidentified</td>\n",
       "      <td>not_converted</td>\n",
       "    </tr>\n",
       "    <tr>\n",
       "      <th>4</th>\n",
       "      <td>business_owner</td>\n",
       "      <td>43</td>\n",
       "      <td>college</td>\n",
       "      <td>married</td>\n",
       "      <td>landline</td>\n",
       "      <td>July</td>\n",
       "      <td>29</td>\n",
       "      <td>184</td>\n",
       "      <td>4</td>\n",
       "      <td>unidentified</td>\n",
       "      <td>not_converted</td>\n",
       "    </tr>\n",
       "  </tbody>\n",
       "</table>\n",
       "</div>"
      ],
      "text/plain": [
       "             occupation  age education_level marital_status  \\\n",
       "0  administrative_staff   28     high_school        married   \n",
       "1  administrative_staff   58    unidentified        married   \n",
       "2               jobless   40     high_school       divorced   \n",
       "3        retired_worker   63     high_school        married   \n",
       "4        business_owner   43         college        married   \n",
       "\n",
       "  communication_channel call_month  call_day  call_duration  call_frequency  \\\n",
       "0          unidentified  September         9              1               1   \n",
       "1          unidentified       June         5            307               2   \n",
       "2                mobile   February         4            113               1   \n",
       "3                mobile      April         7             72               5   \n",
       "4              landline       July        29            184               4   \n",
       "\n",
       "  previous_campaign_outcome conversion_status  \n",
       "0                successful     not_converted  \n",
       "1              unidentified     not_converted  \n",
       "2              unidentified     not_converted  \n",
       "3              unidentified     not_converted  \n",
       "4              unidentified     not_converted  "
      ]
     },
     "execution_count": 4,
     "metadata": {},
     "output_type": "execute_result"
    }
   ],
   "source": [
    "df.head()"
   ]
  },
  {
   "cell_type": "markdown",
   "id": "12f02b53-c1b9-4bc9-b7e3-cddc3689eeae",
   "metadata": {},
   "source": [
    "#### Describe function is used to get a descriptive statistics summary of a given dataframe"
   ]
  },
  {
   "cell_type": "code",
   "execution_count": 5,
   "id": "0745795d-eaf2-4bb2-b877-7266fb9741f4",
   "metadata": {},
   "outputs": [
    {
     "data": {
      "text/html": [
       "<div>\n",
       "<style scoped>\n",
       "    .dataframe tbody tr th:only-of-type {\n",
       "        vertical-align: middle;\n",
       "    }\n",
       "\n",
       "    .dataframe tbody tr th {\n",
       "        vertical-align: top;\n",
       "    }\n",
       "\n",
       "    .dataframe thead th {\n",
       "        text-align: right;\n",
       "    }\n",
       "</style>\n",
       "<table border=\"1\" class=\"dataframe\">\n",
       "  <thead>\n",
       "    <tr style=\"text-align: right;\">\n",
       "      <th></th>\n",
       "      <th>age</th>\n",
       "      <th>call_day</th>\n",
       "      <th>call_duration</th>\n",
       "      <th>call_frequency</th>\n",
       "    </tr>\n",
       "  </thead>\n",
       "  <tbody>\n",
       "    <tr>\n",
       "      <th>count</th>\n",
       "      <td>45211.000000</td>\n",
       "      <td>45211.000000</td>\n",
       "      <td>45211.000000</td>\n",
       "      <td>45211.000000</td>\n",
       "    </tr>\n",
       "    <tr>\n",
       "      <th>mean</th>\n",
       "      <td>40.936210</td>\n",
       "      <td>15.806419</td>\n",
       "      <td>258.163080</td>\n",
       "      <td>2.763841</td>\n",
       "    </tr>\n",
       "    <tr>\n",
       "      <th>std</th>\n",
       "      <td>10.618762</td>\n",
       "      <td>8.322476</td>\n",
       "      <td>257.527812</td>\n",
       "      <td>3.098021</td>\n",
       "    </tr>\n",
       "    <tr>\n",
       "      <th>min</th>\n",
       "      <td>18.000000</td>\n",
       "      <td>1.000000</td>\n",
       "      <td>0.000000</td>\n",
       "      <td>1.000000</td>\n",
       "    </tr>\n",
       "    <tr>\n",
       "      <th>25%</th>\n",
       "      <td>33.000000</td>\n",
       "      <td>8.000000</td>\n",
       "      <td>103.000000</td>\n",
       "      <td>1.000000</td>\n",
       "    </tr>\n",
       "    <tr>\n",
       "      <th>50%</th>\n",
       "      <td>39.000000</td>\n",
       "      <td>16.000000</td>\n",
       "      <td>180.000000</td>\n",
       "      <td>2.000000</td>\n",
       "    </tr>\n",
       "    <tr>\n",
       "      <th>75%</th>\n",
       "      <td>48.000000</td>\n",
       "      <td>21.000000</td>\n",
       "      <td>319.000000</td>\n",
       "      <td>3.000000</td>\n",
       "    </tr>\n",
       "    <tr>\n",
       "      <th>max</th>\n",
       "      <td>95.000000</td>\n",
       "      <td>31.000000</td>\n",
       "      <td>4918.000000</td>\n",
       "      <td>63.000000</td>\n",
       "    </tr>\n",
       "  </tbody>\n",
       "</table>\n",
       "</div>"
      ],
      "text/plain": [
       "                age      call_day  call_duration  call_frequency\n",
       "count  45211.000000  45211.000000   45211.000000    45211.000000\n",
       "mean      40.936210     15.806419     258.163080        2.763841\n",
       "std       10.618762      8.322476     257.527812        3.098021\n",
       "min       18.000000      1.000000       0.000000        1.000000\n",
       "25%       33.000000      8.000000     103.000000        1.000000\n",
       "50%       39.000000     16.000000     180.000000        2.000000\n",
       "75%       48.000000     21.000000     319.000000        3.000000\n",
       "max       95.000000     31.000000    4918.000000       63.000000"
      ]
     },
     "execution_count": 5,
     "metadata": {},
     "output_type": "execute_result"
    }
   ],
   "source": [
    "df.describe()"
   ]
  },
  {
   "cell_type": "markdown",
   "id": "7e090482-6f1e-40bd-b0f4-1d194ced4f67",
   "metadata": {},
   "source": [
    "#### Getting summary of the data. It displays column names, data types, the number of non-null values, and memory usage."
   ]
  },
  {
   "cell_type": "code",
   "execution_count": 6,
   "id": "33b8afae-dfc8-4737-a033-9993a3272d03",
   "metadata": {},
   "outputs": [
    {
     "name": "stdout",
     "output_type": "stream",
     "text": [
      "<class 'pandas.core.frame.DataFrame'>\n",
      "RangeIndex: 45211 entries, 0 to 45210\n",
      "Data columns (total 11 columns):\n",
      " #   Column                     Non-Null Count  Dtype \n",
      "---  ------                     --------------  ----- \n",
      " 0   occupation                 45211 non-null  object\n",
      " 1   age                        45211 non-null  int64 \n",
      " 2   education_level            45211 non-null  object\n",
      " 3   marital_status             45211 non-null  object\n",
      " 4   communication_channel      45211 non-null  object\n",
      " 5   call_month                 45211 non-null  object\n",
      " 6   call_day                   45211 non-null  int64 \n",
      " 7   call_duration              45211 non-null  int64 \n",
      " 8   call_frequency             45211 non-null  int64 \n",
      " 9   previous_campaign_outcome  45211 non-null  object\n",
      " 10  conversion_status          45211 non-null  object\n",
      "dtypes: int64(4), object(7)\n",
      "memory usage: 3.8+ MB\n"
     ]
    }
   ],
   "source": [
    "df.info()"
   ]
  },
  {
   "cell_type": "markdown",
   "id": "0168b295-e49f-4b81-af20-391986374e19",
   "metadata": {},
   "source": [
    "## * **Data Preprocessing**\n"
   ]
  },
  {
   "cell_type": "markdown",
   "id": "3f3fad7d-9423-407e-bb6c-16873c06245f",
   "metadata": {},
   "source": [
    "#### Checking the null value and it's sum "
   ]
  },
  {
   "cell_type": "code",
   "execution_count": 7,
   "id": "b2d700bc-92d7-4bfe-83bd-d1319cc727ad",
   "metadata": {},
   "outputs": [
    {
     "data": {
      "text/plain": [
       "occupation                   0\n",
       "age                          0\n",
       "education_level              0\n",
       "marital_status               0\n",
       "communication_channel        0\n",
       "call_month                   0\n",
       "call_day                     0\n",
       "call_duration                0\n",
       "call_frequency               0\n",
       "previous_campaign_outcome    0\n",
       "conversion_status            0\n",
       "dtype: int64"
      ]
     },
     "execution_count": 7,
     "metadata": {},
     "output_type": "execute_result"
    }
   ],
   "source": [
    "df.isnull().sum()"
   ]
  },
  {
   "cell_type": "markdown",
   "id": "dac521a0-f73b-4ead-9b28-373a3305c916",
   "metadata": {},
   "source": [
    "#### Checking if Any Duplicate value and it's total"
   ]
  },
  {
   "cell_type": "code",
   "execution_count": 8,
   "id": "94b110ce-ce18-43d2-a71d-fb3a71a0d1c7",
   "metadata": {},
   "outputs": [
    {
     "data": {
      "text/plain": [
       "6"
      ]
     },
     "execution_count": 8,
     "metadata": {},
     "output_type": "execute_result"
    }
   ],
   "source": [
    "df.duplicated().sum()"
   ]
  },
  {
   "cell_type": "markdown",
   "id": "c76d2d80-7bcb-4d12-8234-857f22c3a3fb",
   "metadata": {},
   "source": [
    "#### Droping all the duplicates"
   ]
  },
  {
   "cell_type": "code",
   "execution_count": 9,
   "id": "30084134-6ebf-482e-9436-d3c7a65710c7",
   "metadata": {},
   "outputs": [],
   "source": [
    "df.drop_duplicates(inplace=True)"
   ]
  },
  {
   "cell_type": "markdown",
   "id": "003e34ff-c6ab-41e3-ad57-64acd7831421",
   "metadata": {},
   "source": [
    "#### Getting unique value of column "
   ]
  },
  {
   "cell_type": "code",
   "execution_count": 10,
   "id": "9c87ca73-c7b5-4e47-b290-3f53a14562b8",
   "metadata": {},
   "outputs": [
    {
     "data": {
      "text/plain": [
       "occupation\n",
       "manual_worker           9730\n",
       "executive               9457\n",
       "technical_specialist    7596\n",
       "administrative_staff    5170\n",
       "service_worker          4153\n",
       "retired_worker          2264\n",
       "independent_worker      1579\n",
       "business_owner          1487\n",
       "jobless                 1303\n",
       "domestic_worker         1240\n",
       "student                  938\n",
       "unidentified             288\n",
       "Name: count, dtype: int64"
      ]
     },
     "execution_count": 10,
     "metadata": {},
     "output_type": "execute_result"
    }
   ],
   "source": [
    "df.value_counts(\"occupation\")"
   ]
  },
  {
   "cell_type": "markdown",
   "id": "c4da40da-257c-466c-96f1-18e8ae4ce23e",
   "metadata": {},
   "source": [
    "#### Getting unique value of column "
   ]
  },
  {
   "cell_type": "code",
   "execution_count": 11,
   "id": "5eca2656-f7e9-4820-98ff-832edd2d2b02",
   "metadata": {},
   "outputs": [
    {
     "data": {
      "text/plain": [
       "education_level\n",
       "high_school          23199\n",
       "college              13299\n",
       "elementary_school     6850\n",
       "unidentified          1857\n",
       "Name: count, dtype: int64"
      ]
     },
     "execution_count": 11,
     "metadata": {},
     "output_type": "execute_result"
    }
   ],
   "source": [
    "df.value_counts(\"education_level\")"
   ]
  },
  {
   "cell_type": "markdown",
   "id": "d8d437ff-4088-48db-9cf6-0ab502d9e408",
   "metadata": {},
   "source": [
    "#### Getting unique value of column "
   ]
  },
  {
   "cell_type": "code",
   "execution_count": 12,
   "id": "cd9753de-f063-45c3-a61b-0e97f23f57f4",
   "metadata": {},
   "outputs": [
    {
     "data": {
      "text/plain": [
       "marital_status\n",
       "married     27210\n",
       "single      12788\n",
       "divorced     5207\n",
       "Name: count, dtype: int64"
      ]
     },
     "execution_count": 12,
     "metadata": {},
     "output_type": "execute_result"
    }
   ],
   "source": [
    "df.value_counts(\"marital_status\")"
   ]
  },
  {
   "cell_type": "markdown",
   "id": "9867c956-9e08-4df9-8195-1e475312a054",
   "metadata": {},
   "source": [
    "#### Getting unique value of column "
   ]
  },
  {
   "cell_type": "code",
   "execution_count": 13,
   "id": "2dc481b2-812e-488f-a117-2b600ccac7df",
   "metadata": {},
   "outputs": [
    {
     "data": {
      "text/plain": [
       "call_month\n",
       "May          13765\n",
       "July          6894\n",
       "August        6245\n",
       "June          5339\n",
       "November      3970\n",
       "April         2932\n",
       "February      2649\n",
       "January       1403\n",
       "October        738\n",
       "September      579\n",
       "March          477\n",
       "December       214\n",
       "Name: count, dtype: int64"
      ]
     },
     "execution_count": 13,
     "metadata": {},
     "output_type": "execute_result"
    }
   ],
   "source": [
    "df.value_counts(\"call_month\")"
   ]
  },
  {
   "cell_type": "markdown",
   "id": "7abe9777-fb99-40db-9706-55331a6418c7",
   "metadata": {},
   "source": [
    "#### Getting unique value of column "
   ]
  },
  {
   "cell_type": "code",
   "execution_count": 14,
   "id": "f6931d76-c2d3-46e8-af42-1bbfd9ead9f4",
   "metadata": {},
   "outputs": [
    {
     "data": {
      "text/plain": [
       "communication_channel\n",
       "mobile          29282\n",
       "unidentified    13017\n",
       "landline         2906\n",
       "Name: count, dtype: int64"
      ]
     },
     "execution_count": 14,
     "metadata": {},
     "output_type": "execute_result"
    }
   ],
   "source": [
    "df.value_counts(\"communication_channel\")"
   ]
  },
  {
   "cell_type": "markdown",
   "id": "c9dfddc6-485c-40a2-9162-e5a20ef075da",
   "metadata": {},
   "source": [
    "#### Getting unique value of column "
   ]
  },
  {
   "cell_type": "code",
   "execution_count": 15,
   "id": "ff60dbbd-59f3-4bf4-b103-df225c07bcd1",
   "metadata": {},
   "outputs": [
    {
     "data": {
      "text/plain": [
       "previous_campaign_outcome\n",
       "unidentified     36953\n",
       "unsuccessful      4901\n",
       "other_outcome     1840\n",
       "successful        1511\n",
       "Name: count, dtype: int64"
      ]
     },
     "execution_count": 15,
     "metadata": {},
     "output_type": "execute_result"
    }
   ],
   "source": [
    "df.value_counts(\"previous_campaign_outcome\")"
   ]
  },
  {
   "cell_type": "markdown",
   "id": "4a27ea33-f501-48db-a9a4-a23a461037f7",
   "metadata": {},
   "source": [
    "#### Getting unique value of column "
   ]
  },
  {
   "cell_type": "code",
   "execution_count": 16,
   "id": "2e77b94c-591f-43bd-a76c-dd1b5c2eb233",
   "metadata": {},
   "outputs": [
    {
     "data": {
      "text/plain": [
       "conversion_status\n",
       "not_converted    39916\n",
       "converted         5289\n",
       "Name: count, dtype: int64"
      ]
     },
     "execution_count": 16,
     "metadata": {},
     "output_type": "execute_result"
    }
   ],
   "source": [
    "df.value_counts(\"conversion_status\")"
   ]
  },
  {
   "cell_type": "markdown",
   "id": "ecc9f51e-1ff9-4d0d-bcc9-500b225af76e",
   "metadata": {},
   "source": [
    "#### Plot Box by we are getting outliers after 70 in boxplot so droping it because if outliers are there in data it will affect in model"
   ]
  },
  {
   "cell_type": "code",
   "execution_count": 100,
   "id": "673eac78-aa58-4a17-af4d-460a084459b9",
   "metadata": {},
   "outputs": [
    {
     "data": {
      "text/plain": [
       "<Axes: >"
      ]
     },
     "execution_count": 100,
     "metadata": {},
     "output_type": "execute_result"
    },
    {
     "data": {
      "image/png": "[encoded data removed]",
      "text/plain": [
       "<Figure size 640x480 with 1 Axes>"
      ]
     },
     "metadata": {},
     "output_type": "display_data"
    }
   ],
   "source": [
    "df[\"age\"].plot.box()"
   ]
  },
  {
   "cell_type": "markdown",
   "id": "31c21ac9-298d-4bee-a46e-defc90a13f49",
   "metadata": {},
   "source": [
    "#### By using this we will get the tentive value of outliers"
   ]
  },
  {
   "cell_type": "code",
   "execution_count": 18,
   "id": "f14e0488-0773-4224-9221-f18582bbb262",
   "metadata": {},
   "outputs": [
    {
     "data": {
      "text/plain": [
       "63.0"
      ]
     },
     "execution_count": 18,
     "metadata": {},
     "output_type": "execute_result"
    }
   ],
   "source": [
    "df[\"age\"].quantile(.98)"
   ]
  },
  {
   "cell_type": "markdown",
   "id": "3b643f22-0c53-47f2-b1d7-e73130327ce1",
   "metadata": {},
   "source": [
    "#### Saving this in new_df of outliers"
   ]
  },
  {
   "cell_type": "code",
   "execution_count": 19,
   "id": "6e1e8e37-6908-475e-b374-b2e680dbf048",
   "metadata": {},
   "outputs": [],
   "source": [
    "new_df=df[df[\"age\"] < df[\"age\"].quantile(.98)]"
   ]
  },
  {
   "cell_type": "markdown",
   "id": "79ec0c89-0586-4f3f-a4a7-0e05d3f5e0c0",
   "metadata": {},
   "source": [
    "#### After saving in new_df again ploting by boxplot"
   ]
  },
  {
   "cell_type": "code",
   "execution_count": 20,
   "id": "f0e2d4a9-0d6a-4f4e-bf97-5d2feca6064d",
   "metadata": {},
   "outputs": [
    {
     "data": {
      "text/plain": [
       "<Axes: >"
      ]
     },
     "execution_count": 20,
     "metadata": {},
     "output_type": "execute_result"
    },
    {
     "data": {
      "image/png": "[encoded data removed]",
      "text/plain": [
       "<Figure size 640x480 with 1 Axes>"
      ]
     },
     "metadata": {},
     "output_type": "display_data"
    }
   ],
   "source": [
    "new_df.boxplot(\"age\")"
   ]
  },
  {
   "cell_type": "markdown",
   "id": "25edab82-116f-415c-a1ef-4a94f96033f4",
   "metadata": {},
   "source": [
    "#### Plot Box by we are getting outliers after 1000 in boxplot so droping it because if outliers are there in data it will affect in model"
   ]
  },
  {
   "cell_type": "code",
   "execution_count": 21,
   "id": "62fcedfe-0545-45ed-8e2b-4cdc024544c0",
   "metadata": {},
   "outputs": [
    {
     "data": {
      "text/plain": [
       "<Axes: >"
      ]
     },
     "execution_count": 21,
     "metadata": {},
     "output_type": "execute_result"
    },
    {
     "data": {
      "image/png": "[encoded data removed]",
      "text/plain": [
       "<Figure size 640x480 with 1 Axes>"
      ]
     },
     "metadata": {},
     "output_type": "display_data"
    }
   ],
   "source": [
    "df[\"call_duration\"].plot.box()"
   ]
  },
  {
   "cell_type": "markdown",
   "id": "1f7e1a36-1ef5-42b8-8e8d-632b59a437cc",
   "metadata": {},
   "source": [
    "#### By using this we will get the tentive value of outliers"
   ]
  },
  {
   "cell_type": "code",
   "execution_count": 22,
   "id": "dd42a6c6-a37f-4755-8283-cafef72ca806",
   "metadata": {},
   "outputs": [
    {
     "data": {
      "text/plain": [
       "437.0"
      ]
     },
     "execution_count": 22,
     "metadata": {},
     "output_type": "execute_result"
    }
   ],
   "source": [
    "df[\"call_duration\"].quantile(.85)"
   ]
  },
  {
   "cell_type": "markdown",
   "id": "20d863d7-35a4-4cb0-a8fe-6b45199a9504",
   "metadata": {},
   "source": [
    "#### Saving this in new_df of outliers"
   ]
  },
  {
   "cell_type": "code",
   "execution_count": 23,
   "id": "24455b0a-b1b9-438f-a152-335fa4eda3a2",
   "metadata": {},
   "outputs": [],
   "source": [
    "new_df=df[df[\"call_duration\"] < df[\"call_duration\"].quantile(.85)]"
   ]
  },
  {
   "cell_type": "markdown",
   "id": "58d20f88-93b5-434f-8bb9-fbd0eef1355e",
   "metadata": {},
   "source": [
    "#### After saving in new_df again ploting by boxplot"
   ]
  },
  {
   "cell_type": "code",
   "execution_count": 24,
   "id": "62d309bf-3d02-42b0-b666-ae6a6cdfa7fa",
   "metadata": {
    "scrolled": true
   },
   "outputs": [
    {
     "data": {
      "text/plain": [
       "<Axes: >"
      ]
     },
     "execution_count": 24,
     "metadata": {},
     "output_type": "execute_result"
    },
    {
     "data": {
      "image/png": "[encoded data removed]",
      "text/plain": [
       "<Figure size 640x480 with 1 Axes>"
      ]
     },
     "metadata": {},
     "output_type": "display_data"
    }
   ],
   "source": [
    "new_df[\"call_duration\"].plot.box()"
   ]
  },
  {
   "cell_type": "markdown",
   "id": "8b17dcdb-68ed-49e3-9023-1c256a0e9b5d",
   "metadata": {},
   "source": [
    "#### Plot Box by we are getting outliers after 10 in boxplot so droping it because if outliers are there in data it will affect in model"
   ]
  },
  {
   "cell_type": "code",
   "execution_count": 25,
   "id": "4565a038-7bef-4f90-a7e2-d89c42e03dc8",
   "metadata": {},
   "outputs": [
    {
     "data": {
      "text/plain": [
       "<Axes: >"
      ]
     },
     "execution_count": 25,
     "metadata": {},
     "output_type": "execute_result"
    },
    {
     "data": {
      "image/png": "[encoded data removed]",
      "text/plain": [
       "<Figure size 640x480 with 1 Axes>"
      ]
     },
     "metadata": {},
     "output_type": "display_data"
    }
   ],
   "source": [
    "df[\"call_frequency\"].plot.box()"
   ]
  },
  {
   "cell_type": "markdown",
   "id": "40308563-f97d-4939-aa23-c30e71250cca",
   "metadata": {},
   "source": [
    "#### By using this we will get the tentive value of outliers"
   ]
  },
  {
   "cell_type": "code",
   "execution_count": 26,
   "id": "be2594d9-7fb4-4251-ae0a-b74660825de0",
   "metadata": {},
   "outputs": [
    {
     "data": {
      "text/plain": [
       "7.0"
      ]
     },
     "execution_count": 26,
     "metadata": {},
     "output_type": "execute_result"
    }
   ],
   "source": [
    "df[\"call_frequency\"].quantile(.94)"
   ]
  },
  {
   "cell_type": "markdown",
   "id": "34078ab1-5130-4ecb-a23e-8608d375d4f9",
   "metadata": {},
   "source": [
    "#### Saving this in new_df varible of outliers"
   ]
  },
  {
   "cell_type": "code",
   "execution_count": 27,
   "id": "87e36817-5732-42fb-8b1d-82d7f4608fa6",
   "metadata": {},
   "outputs": [],
   "source": [
    "new_df=df[df[\"call_frequency\"] < df[\"call_frequency\"].quantile(.94)]"
   ]
  },
  {
   "cell_type": "markdown",
   "id": "ebf6cd71-0fc3-4bec-ac7d-6953ecb276ea",
   "metadata": {},
   "source": [
    "#### After saving in new_df again ploting by boxplot"
   ]
  },
  {
   "cell_type": "code",
   "execution_count": 28,
   "id": "bf087e72-698c-4504-8550-0aa8d24aa945",
   "metadata": {},
   "outputs": [
    {
     "data": {
      "text/plain": [
       "<Axes: >"
      ]
     },
     "execution_count": 28,
     "metadata": {},
     "output_type": "execute_result"
    },
    {
     "data": {
      "image/png": "[encoded data removed]",
      "text/plain": [
       "<Figure size 640x480 with 1 Axes>"
      ]
     },
     "metadata": {},
     "output_type": "display_data"
    }
   ],
   "source": [
    "new_df[\"call_frequency\"].plot.box()"
   ]
  },
  {
   "cell_type": "markdown",
   "id": "4e54ca5d-28cf-4715-9f22-5510cf7ca99f",
   "metadata": {},
   "source": [
    "## **Exploratory Data Analysis (EDA)**"
   ]
  },
  {
   "cell_type": "markdown",
   "id": "402165a0-659c-4a14-ba6d-766d20e5c4cf",
   "metadata": {},
   "source": [
    "#### Plotting occupation by counplot \n",
    "* plt.title(\"Distribution Occuption\"): This line sets the title of the plot\n",
    "* sns.countplot(x=df[\"occupation\"]): countplot function to create a bar plot showing the counts of unique values in the \"conversion_status\" column of the DataFrame df. The x parameter specifies the column to plot on the x-axis\n",
    "* plt.show(): it will show plot"
   ]
  },
  {
   "cell_type": "code",
   "execution_count": 29,
   "id": "9da4aa60-211d-4f3a-ac41-a675d2ba1062",
   "metadata": {},
   "outputs": [
    {
     "data": {
      "image/png": "[encoded data removed]",
      "text/plain": [
       "<Figure size 640x480 with 1 Axes>"
      ]
     },
     "metadata": {},
     "output_type": "display_data"
    }
   ],
   "source": [
    "plt.title(\"Distribution Occuption\")\n",
    "plt.xticks(rotation=90)\n",
    "sns.countplot(x=df[\"occupation\"])\n",
    "plt.show()"
   ]
  },
  {
   "cell_type": "markdown",
   "id": "29dc0b49-e9d5-47d2-9bfb-78923b193391",
   "metadata": {},
   "source": [
    "#### Plotting communication by counplot \n",
    "* plt.title(\"communication\"): This line sets the title of the plot\n",
    "* sns.countplot(x=df[\"communication_channel\"]): countplot function to create a bar plot showing the counts of unique values in the \"conversion_status\" column of the DataFrame df. The x parameter specifies the column to plot on the x-axis\n",
    "* plt.show(): it will show plot"
   ]
  },
  {
   "cell_type": "code",
   "execution_count": 30,
   "id": "62877ce1-1e08-4bf9-917e-a46f5a4f75aa",
   "metadata": {},
   "outputs": [
    {
     "data": {
      "image/png": "[encoded data removed]",
      "text/plain": [
       "<Figure size 640x480 with 1 Axes>"
      ]
     },
     "metadata": {},
     "output_type": "display_data"
    }
   ],
   "source": [
    "plt.title(\"communication\")\n",
    "sns.countplot(x=df[\"communication_channel\"])\n",
    "plt.show()"
   ]
  },
  {
   "cell_type": "markdown",
   "id": "8a5f8d71-260a-4e79-901a-1f72f7c1193e",
   "metadata": {},
   "source": [
    "#### Plotting conversion status by counplot\n",
    "* plt.title(\"Customer was converted or not\"): This line sets the title of the plot\n",
    "* sns.countplot(x=df[\"conversion_status\"]): countplot function to create a bar plot showing the counts of unique values in the \"conversion_status\" column of the DataFrame df. The x parameter specifies the column to plot on the x-axis\n",
    "* plt.show(): it will show plot"
   ]
  },
  {
   "cell_type": "code",
   "execution_count": 31,
   "id": "351efbb4-d568-473d-ad24-30325028e2fe",
   "metadata": {},
   "outputs": [
    {
     "data": {
      "image/png": "[encoded data removed]",
      "text/plain": [
       "<Figure size 640x480 with 1 Axes>"
      ]
     },
     "metadata": {},
     "output_type": "display_data"
    }
   ],
   "source": [
    "plt.title(\"Customer was converted or not\")\n",
    "sns.countplot(x=df[\"conversion_status\"])\n",
    "plt.show()\n"
   ]
  },
  {
   "cell_type": "markdown",
   "id": "baed5c37-a57d-446e-8686-b9ef1181e4bc",
   "metadata": {},
   "source": [
    "#### Plotting education level  by counplot\n",
    "* plt.title(\"Education level\"): This line sets the title of the plot\n",
    "* sns.countplot(x=df[\"education_level\"]): countplot function to create a bar plot showing the counts of unique values in the \"conversion_status\" column of the DataFrame df. The x parameter specifies the column to plot on the x-axis\n",
    "* plt.show(): it will show plot"
   ]
  },
  {
   "cell_type": "code",
   "execution_count": 32,
   "id": "f4384719-cc62-48df-a887-45cec9b26a6f",
   "metadata": {},
   "outputs": [
    {
     "data": {
      "image/png": "[encoded data removed]",
      "text/plain": [
       "<Figure size 640x480 with 1 Axes>"
      ]
     },
     "metadata": {},
     "output_type": "display_data"
    }
   ],
   "source": [
    "plt.title(\"Education level\")\n",
    "sns.countplot(x=df[\"education_level\"])\n",
    "plt.show()"
   ]
  },
  {
   "cell_type": "markdown",
   "id": "4fd3396f-519f-4fd7-8f2e-54f1eaa6655e",
   "metadata": {},
   "source": [
    "#### Plotting conversion marital status by counplot\n",
    "* plt.title(\"customer martial status\"): This line sets the title of the plot\n",
    "* sns.countplot(x=df[\"marital_status\"]):countplot function to create a bar plot showing the counts of unique values in the \"conversion_status\" column of the DataFrame df. The x parameter specifies the column to plot on the x-axis\n",
    "* plt.show(): it will show plot"
   ]
  },
  {
   "cell_type": "code",
   "execution_count": 33,
   "id": "934b5806-d0cb-411b-9a36-5ed4d0aed772",
   "metadata": {},
   "outputs": [
    {
     "data": {
      "image/png": "[encoded data removed]",
      "text/plain": [
       "<Figure size 640x480 with 1 Axes>"
      ]
     },
     "metadata": {},
     "output_type": "display_data"
    }
   ],
   "source": [
    "plt.title(\"customer martial status\")\n",
    "sns.countplot(x=df[\"marital_status\"])\n",
    "plt.show()"
   ]
  },
  {
   "cell_type": "markdown",
   "id": "8986605d-01ae-4b00-9aff-1bba0e9f512e",
   "metadata": {},
   "source": [
    "#### Plotting call month by counplot\n",
    "* plt.title(\"Call month\"): This line sets the title of the plot\n",
    "* sns.countplot(x=df[\"call_month\"]): countplot function to create a bar plot showing the counts of unique values in the \"conversion_status\" column of the DataFrame df. The x parameter specifies the column to plot on the x-axis\n",
    "* plt.show(): it will show plot"
   ]
  },
  {
   "cell_type": "code",
   "execution_count": 34,
   "id": "1d155bf8-20ad-4d06-a232-27051c96badd",
   "metadata": {},
   "outputs": [
    {
     "data": {
      "image/png": "[encoded data removed]",
      "text/plain": [
       "<Figure size 640x480 with 1 Axes>"
      ]
     },
     "metadata": {},
     "output_type": "display_data"
    }
   ],
   "source": [
    "plt.title(\"conversion status\")\n",
    "sns.countplot(x=df[\"call_month\"])\n",
    "plt.show()"
   ]
  },
  {
   "cell_type": "markdown",
   "id": "4f0884f1-30fa-4282-88ac-73034a66218d",
   "metadata": {},
   "source": [
    "#### Plotting conversion status by counplot\n",
    "* plt.title(\"conversion status\"): This line sets the title of the plot\n",
    "* sns.countplot(x=df[\"conversion_status\"]): countplot function to create a bar plot showing the counts of unique values in the \"conversion_status\" column of the DataFrame df. The x parameter specifies the column to plot on the x-axis\n",
    "* plt.show(): it will show plot"
   ]
  },
  {
   "cell_type": "code",
   "execution_count": 35,
   "id": "b987fa5a-c685-4e9c-9263-50b89d922d23",
   "metadata": {},
   "outputs": [
    {
     "data": {
      "image/png": "[encoded data removed]",
      "text/plain": [
       "<Figure size 640x480 with 1 Axes>"
      ]
     },
     "metadata": {},
     "output_type": "display_data"
    }
   ],
   "source": [
    "plt.title(\"conversion status\")\n",
    "sns.countplot(x=df[\"conversion_status\"])\n",
    "plt.show()"
   ]
  },
  {
   "cell_type": "markdown",
   "id": "c4c1f661-71b7-4a2e-b8d4-8aa0ec86c451",
   "metadata": {},
   "source": [
    "#### By using lambda function convert categorical variables into numerical format like if it's married give 0,if it's single 1 and divorce 2 "
   ]
  },
  {
   "cell_type": "code",
   "execution_count": 36,
   "id": "f28babc6-106e-4ee1-b48d-b0f6bd2fa1bc",
   "metadata": {},
   "outputs": [],
   "source": [
    "df['marital_status']=list(map(lambda x: 0 if x=='married' else(1 if x=='single' else 2), df['marital_status']))"
   ]
  },
  {
   "cell_type": "markdown",
   "id": "8103229e-0e88-4f8c-b8ac-bc16ac875d0b",
   "metadata": {},
   "source": [
    "#### By using lambda function convert categorical variables into numerical format like if it's mobile give 0,if it's landline 1 and unidentified 2 "
   ]
  },
  {
   "cell_type": "code",
   "execution_count": 37,
   "id": "79f924a6-7fec-4fa6-beb6-c9235508b00b",
   "metadata": {},
   "outputs": [],
   "source": [
    "df['communication_channel']=list(map(lambda x: 0 if x=='mobile' else(1 if x=='landline' else 2), df['communication_channel']))"
   ]
  },
  {
   "cell_type": "markdown",
   "id": "9884a153-9766-4381-bf0d-9d1682b8d601",
   "metadata": {},
   "source": [
    "#### By using map function  convert categorical variables into numerical format if it's january give 1,if it's february 2 and and so on"
   ]
  },
  {
   "cell_type": "code",
   "execution_count": 38,
   "id": "103dff7f-d2e8-43da-a256-fcf795d7f385",
   "metadata": {},
   "outputs": [],
   "source": [
    "months_Call={\n",
    "    \"January\":1,\n",
    "    \"February\":2,\n",
    "    \"March\":3,\n",
    "    \"April\":4,\n",
    "    \"May\":5,\n",
    "    \"June\":6,\n",
    "    \"July\":7,\n",
    "    \"August\":8,\n",
    "    \"September\":9,\n",
    "    \"October\":10,\n",
    "    \"November\":11,\n",
    "    \"December\":12\n",
    "}"
   ]
  },
  {
   "cell_type": "markdown",
   "id": "b02cee80-8ef1-41a7-a1cc-154373501c85",
   "metadata": {},
   "source": [
    "#### Creating new column months and saving above null in months"
   ]
  },
  {
   "cell_type": "code",
   "execution_count": 39,
   "id": "74a31f40-cfe7-433b-ae53-5551e52ff8b6",
   "metadata": {},
   "outputs": [],
   "source": [
    "df[\"Months\"]=df[\"call_month\"].map(months_Call)"
   ]
  },
  {
   "cell_type": "code",
   "execution_count": 40,
   "id": "320bdd10-a292-42ae-bb8d-16daecfdd643",
   "metadata": {},
   "outputs": [
    {
     "data": {
      "text/plain": [
       "0        9\n",
       "1        6\n",
       "2        2\n",
       "3        4\n",
       "4        7\n",
       "        ..\n",
       "45206    5\n",
       "45207    5\n",
       "45208    6\n",
       "45209    7\n",
       "45210    5\n",
       "Name: Months, Length: 45205, dtype: int64"
      ]
     },
     "execution_count": 40,
     "metadata": {},
     "output_type": "execute_result"
    }
   ],
   "source": [
    "df[\"Months\"]"
   ]
  },
  {
   "cell_type": "markdown",
   "id": "3adb7a94-1cd5-471f-b03c-f5a6c9cda4fc",
   "metadata": {},
   "source": [
    "#### Droping call month because created new column i.e months of call months"
   ]
  },
  {
   "cell_type": "code",
   "execution_count": 41,
   "id": "65070b2e-2116-41d3-ac07-f333182209a8",
   "metadata": {},
   "outputs": [],
   "source": [
    "df.drop(\"call_month\",axis=1,inplace=True)"
   ]
  },
  {
   "cell_type": "markdown",
   "id": "13381659-b851-455d-985a-db676db901ab",
   "metadata": {},
   "source": [
    "#### By using lambda function convert categorical variables into numerical format like if it's converted give 0,if it's not converted 1"
   ]
  },
  {
   "cell_type": "code",
   "execution_count": 42,
   "id": "12c3c389-0d1a-48b4-a9f9-fdfa7c1013e6",
   "metadata": {},
   "outputs": [],
   "source": [
    "df['conversion_status']=list(map(lambda x: 0 if x=='converted' else(1 if x=='not_converted' else 2), df['conversion_status']))"
   ]
  },
  {
   "cell_type": "markdown",
   "id": "02abe8af-fb34-4ae0-b61c-b26c13a1c0fa",
   "metadata": {},
   "source": [
    "#### Checking if above changes applied to data or not"
   ]
  },
  {
   "cell_type": "code",
   "execution_count": 43,
   "id": "1ac69988-a1ec-4204-8a9d-8d52fa364fe7",
   "metadata": {},
   "outputs": [
    {
     "data": {
      "text/html": [
       "<div>\n",
       "<style scoped>\n",
       "    .dataframe tbody tr th:only-of-type {\n",
       "        vertical-align: middle;\n",
       "    }\n",
       "\n",
       "    .dataframe tbody tr th {\n",
       "        vertical-align: top;\n",
       "    }\n",
       "\n",
       "    .dataframe thead th {\n",
       "        text-align: right;\n",
       "    }\n",
       "</style>\n",
       "<table border=\"1\" class=\"dataframe\">\n",
       "  <thead>\n",
       "    <tr style=\"text-align: right;\">\n",
       "      <th></th>\n",
       "      <th>occupation</th>\n",
       "      <th>age</th>\n",
       "      <th>education_level</th>\n",
       "      <th>marital_status</th>\n",
       "      <th>communication_channel</th>\n",
       "      <th>call_day</th>\n",
       "      <th>call_duration</th>\n",
       "      <th>call_frequency</th>\n",
       "      <th>previous_campaign_outcome</th>\n",
       "      <th>conversion_status</th>\n",
       "      <th>Months</th>\n",
       "    </tr>\n",
       "  </thead>\n",
       "  <tbody>\n",
       "    <tr>\n",
       "      <th>0</th>\n",
       "      <td>administrative_staff</td>\n",
       "      <td>28</td>\n",
       "      <td>high_school</td>\n",
       "      <td>0</td>\n",
       "      <td>2</td>\n",
       "      <td>9</td>\n",
       "      <td>1</td>\n",
       "      <td>1</td>\n",
       "      <td>successful</td>\n",
       "      <td>1</td>\n",
       "      <td>9</td>\n",
       "    </tr>\n",
       "    <tr>\n",
       "      <th>1</th>\n",
       "      <td>administrative_staff</td>\n",
       "      <td>58</td>\n",
       "      <td>unidentified</td>\n",
       "      <td>0</td>\n",
       "      <td>2</td>\n",
       "      <td>5</td>\n",
       "      <td>307</td>\n",
       "      <td>2</td>\n",
       "      <td>unidentified</td>\n",
       "      <td>1</td>\n",
       "      <td>6</td>\n",
       "    </tr>\n",
       "    <tr>\n",
       "      <th>2</th>\n",
       "      <td>jobless</td>\n",
       "      <td>40</td>\n",
       "      <td>high_school</td>\n",
       "      <td>2</td>\n",
       "      <td>0</td>\n",
       "      <td>4</td>\n",
       "      <td>113</td>\n",
       "      <td>1</td>\n",
       "      <td>unidentified</td>\n",
       "      <td>1</td>\n",
       "      <td>2</td>\n",
       "    </tr>\n",
       "    <tr>\n",
       "      <th>3</th>\n",
       "      <td>retired_worker</td>\n",
       "      <td>63</td>\n",
       "      <td>high_school</td>\n",
       "      <td>0</td>\n",
       "      <td>0</td>\n",
       "      <td>7</td>\n",
       "      <td>72</td>\n",
       "      <td>5</td>\n",
       "      <td>unidentified</td>\n",
       "      <td>1</td>\n",
       "      <td>4</td>\n",
       "    </tr>\n",
       "    <tr>\n",
       "      <th>4</th>\n",
       "      <td>business_owner</td>\n",
       "      <td>43</td>\n",
       "      <td>college</td>\n",
       "      <td>0</td>\n",
       "      <td>1</td>\n",
       "      <td>29</td>\n",
       "      <td>184</td>\n",
       "      <td>4</td>\n",
       "      <td>unidentified</td>\n",
       "      <td>1</td>\n",
       "      <td>7</td>\n",
       "    </tr>\n",
       "  </tbody>\n",
       "</table>\n",
       "</div>"
      ],
      "text/plain": [
       "             occupation  age education_level  marital_status  \\\n",
       "0  administrative_staff   28     high_school               0   \n",
       "1  administrative_staff   58    unidentified               0   \n",
       "2               jobless   40     high_school               2   \n",
       "3        retired_worker   63     high_school               0   \n",
       "4        business_owner   43         college               0   \n",
       "\n",
       "   communication_channel  call_day  call_duration  call_frequency  \\\n",
       "0                      2         9              1               1   \n",
       "1                      2         5            307               2   \n",
       "2                      0         4            113               1   \n",
       "3                      0         7             72               5   \n",
       "4                      1        29            184               4   \n",
       "\n",
       "  previous_campaign_outcome  conversion_status  Months  \n",
       "0                successful                  1       9  \n",
       "1              unidentified                  1       6  \n",
       "2              unidentified                  1       2  \n",
       "3              unidentified                  1       4  \n",
       "4              unidentified                  1       7  "
      ]
     },
     "execution_count": 43,
     "metadata": {},
     "output_type": "execute_result"
    }
   ],
   "source": [
    "df.head()"
   ]
  },
  {
   "cell_type": "markdown",
   "id": "239c8066-57f3-4c7f-b908-90999bebf465",
   "metadata": {},
   "source": [
    "#### Importing library"
   ]
  },
  {
   "cell_type": "code",
   "execution_count": 44,
   "id": "a9fd9b83-ab41-4357-8710-ce02db461f2f",
   "metadata": {},
   "outputs": [],
   "source": [
    "from sklearn.preprocessing import LabelEncoder"
   ]
  },
  {
   "cell_type": "markdown",
   "id": "adefac1e-dc40-4ceb-9dc4-2e2ef64cc7c6",
   "metadata": {},
   "source": [
    "#### Creates an instance of the LabelEncoder class and assigns it to the variable model"
   ]
  },
  {
   "cell_type": "code",
   "execution_count": 45,
   "id": "38778f2e-9f45-492a-a0f6-5e4f95e10948",
   "metadata": {},
   "outputs": [],
   "source": [
    "model = LabelEncoder()"
   ]
  },
  {
   "cell_type": "markdown",
   "id": "2ebfe127-f0e8-49a8-8fde-b591c01d5065",
   "metadata": {},
   "source": [
    "#### By using LabelEncoder convert categorical variables into numerical format"
   ]
  },
  {
   "cell_type": "code",
   "execution_count": 46,
   "id": "79d49779-9cbe-4b41-8316-2190476082e5",
   "metadata": {},
   "outputs": [
    {
     "data": {
      "text/plain": [
       "array([ 0,  0,  5, ...,  3,  7, 10])"
      ]
     },
     "execution_count": 46,
     "metadata": {},
     "output_type": "execute_result"
    }
   ],
   "source": [
    "model.fit_transform(df['occupation'])"
   ]
  },
  {
   "cell_type": "markdown",
   "id": "d6eebb8e-f304-4e67-bae5-3abde7abd463",
   "metadata": {},
   "source": [
    "#### By using LabelEncoder convert categorical variables into numerical format"
   ]
  },
  {
   "cell_type": "code",
   "execution_count": 47,
   "id": "cde1726f-aaaa-4b43-9b86-800475deb0ac",
   "metadata": {},
   "outputs": [
    {
     "data": {
      "text/plain": [
       "array([2, 3, 2, ..., 0, 1, 0])"
      ]
     },
     "execution_count": 47,
     "metadata": {},
     "output_type": "execute_result"
    }
   ],
   "source": [
    "model.fit_transform(df['education_level'])"
   ]
  },
  {
   "cell_type": "markdown",
   "id": "174c157e-41b8-4c1f-8bb2-d7424c55a6a4",
   "metadata": {},
   "source": [
    "#### By using LabelEncoder convert categorical variables into numerical format"
   ]
  },
  {
   "cell_type": "code",
   "execution_count": 48,
   "id": "e8c38d7d-cfae-476e-9727-2a09e3fbe56f",
   "metadata": {},
   "outputs": [
    {
     "data": {
      "text/plain": [
       "array([1, 2, 2, ..., 0, 2, 2])"
      ]
     },
     "execution_count": 48,
     "metadata": {},
     "output_type": "execute_result"
    }
   ],
   "source": [
    "model.fit_transform(df['previous_campaign_outcome'])"
   ]
  },
  {
   "cell_type": "markdown",
   "id": "cd742469-6b97-4eaf-bf37-834f411c66c8",
   "metadata": {},
   "source": [
    "#### After creating the LabelEncoder object,  use its methods, such as fit_transform(), to encode categorical labels into numerical values."
   ]
  },
  {
   "cell_type": "code",
   "execution_count": 49,
   "id": "16779e9a-80dc-418f-a0db-519b38e209f1",
   "metadata": {},
   "outputs": [
    {
     "data": {
      "text/html": [
       "<div>\n",
       "<style scoped>\n",
       "    .dataframe tbody tr th:only-of-type {\n",
       "        vertical-align: middle;\n",
       "    }\n",
       "\n",
       "    .dataframe tbody tr th {\n",
       "        vertical-align: top;\n",
       "    }\n",
       "\n",
       "    .dataframe thead th {\n",
       "        text-align: right;\n",
       "    }\n",
       "</style>\n",
       "<table border=\"1\" class=\"dataframe\">\n",
       "  <thead>\n",
       "    <tr style=\"text-align: right;\">\n",
       "      <th></th>\n",
       "      <th>occupation</th>\n",
       "      <th>age</th>\n",
       "      <th>education_level</th>\n",
       "      <th>marital_status</th>\n",
       "      <th>communication_channel</th>\n",
       "      <th>call_day</th>\n",
       "      <th>call_duration</th>\n",
       "      <th>call_frequency</th>\n",
       "      <th>previous_campaign_outcome</th>\n",
       "      <th>conversion_status</th>\n",
       "      <th>Months</th>\n",
       "    </tr>\n",
       "  </thead>\n",
       "  <tbody>\n",
       "    <tr>\n",
       "      <th>0</th>\n",
       "      <td>0</td>\n",
       "      <td>28</td>\n",
       "      <td>high_school</td>\n",
       "      <td>0</td>\n",
       "      <td>2</td>\n",
       "      <td>9</td>\n",
       "      <td>1</td>\n",
       "      <td>1</td>\n",
       "      <td>successful</td>\n",
       "      <td>1</td>\n",
       "      <td>9</td>\n",
       "    </tr>\n",
       "    <tr>\n",
       "      <th>1</th>\n",
       "      <td>0</td>\n",
       "      <td>58</td>\n",
       "      <td>unidentified</td>\n",
       "      <td>0</td>\n",
       "      <td>2</td>\n",
       "      <td>5</td>\n",
       "      <td>307</td>\n",
       "      <td>2</td>\n",
       "      <td>unidentified</td>\n",
       "      <td>1</td>\n",
       "      <td>6</td>\n",
       "    </tr>\n",
       "    <tr>\n",
       "      <th>2</th>\n",
       "      <td>5</td>\n",
       "      <td>40</td>\n",
       "      <td>high_school</td>\n",
       "      <td>2</td>\n",
       "      <td>0</td>\n",
       "      <td>4</td>\n",
       "      <td>113</td>\n",
       "      <td>1</td>\n",
       "      <td>unidentified</td>\n",
       "      <td>1</td>\n",
       "      <td>2</td>\n",
       "    </tr>\n",
       "    <tr>\n",
       "      <th>3</th>\n",
       "      <td>7</td>\n",
       "      <td>63</td>\n",
       "      <td>high_school</td>\n",
       "      <td>0</td>\n",
       "      <td>0</td>\n",
       "      <td>7</td>\n",
       "      <td>72</td>\n",
       "      <td>5</td>\n",
       "      <td>unidentified</td>\n",
       "      <td>1</td>\n",
       "      <td>4</td>\n",
       "    </tr>\n",
       "    <tr>\n",
       "      <th>4</th>\n",
       "      <td>1</td>\n",
       "      <td>43</td>\n",
       "      <td>college</td>\n",
       "      <td>0</td>\n",
       "      <td>1</td>\n",
       "      <td>29</td>\n",
       "      <td>184</td>\n",
       "      <td>4</td>\n",
       "      <td>unidentified</td>\n",
       "      <td>1</td>\n",
       "      <td>7</td>\n",
       "    </tr>\n",
       "  </tbody>\n",
       "</table>\n",
       "</div>"
      ],
      "text/plain": [
       "   occupation  age education_level  marital_status  communication_channel  \\\n",
       "0           0   28     high_school               0                      2   \n",
       "1           0   58    unidentified               0                      2   \n",
       "2           5   40     high_school               2                      0   \n",
       "3           7   63     high_school               0                      0   \n",
       "4           1   43         college               0                      1   \n",
       "\n",
       "   call_day  call_duration  call_frequency previous_campaign_outcome  \\\n",
       "0         9              1               1                successful   \n",
       "1         5            307               2              unidentified   \n",
       "2         4            113               1              unidentified   \n",
       "3         7             72               5              unidentified   \n",
       "4        29            184               4              unidentified   \n",
       "\n",
       "   conversion_status  Months  \n",
       "0                  1       9  \n",
       "1                  1       6  \n",
       "2                  1       2  \n",
       "3                  1       4  \n",
       "4                  1       7  "
      ]
     },
     "execution_count": 49,
     "metadata": {},
     "output_type": "execute_result"
    }
   ],
   "source": [
    "df['occupation']= model.fit_transform(df['occupation']) \n",
    "df.head()"
   ]
  },
  {
   "cell_type": "markdown",
   "id": "650a8041-9abe-4a35-912a-f55328f913a9",
   "metadata": {},
   "source": [
    "#### After creating the LabelEncoder object,  use its methods, such as fit_transform(), to encode categorical labels into numerical values."
   ]
  },
  {
   "cell_type": "code",
   "execution_count": 50,
   "id": "b95301fc-1138-4292-a5a8-9f99202c5ab2",
   "metadata": {},
   "outputs": [
    {
     "data": {
      "text/html": [
       "<div>\n",
       "<style scoped>\n",
       "    .dataframe tbody tr th:only-of-type {\n",
       "        vertical-align: middle;\n",
       "    }\n",
       "\n",
       "    .dataframe tbody tr th {\n",
       "        vertical-align: top;\n",
       "    }\n",
       "\n",
       "    .dataframe thead th {\n",
       "        text-align: right;\n",
       "    }\n",
       "</style>\n",
       "<table border=\"1\" class=\"dataframe\">\n",
       "  <thead>\n",
       "    <tr style=\"text-align: right;\">\n",
       "      <th></th>\n",
       "      <th>occupation</th>\n",
       "      <th>age</th>\n",
       "      <th>education_level</th>\n",
       "      <th>marital_status</th>\n",
       "      <th>communication_channel</th>\n",
       "      <th>call_day</th>\n",
       "      <th>call_duration</th>\n",
       "      <th>call_frequency</th>\n",
       "      <th>previous_campaign_outcome</th>\n",
       "      <th>conversion_status</th>\n",
       "      <th>Months</th>\n",
       "    </tr>\n",
       "  </thead>\n",
       "  <tbody>\n",
       "    <tr>\n",
       "      <th>0</th>\n",
       "      <td>0</td>\n",
       "      <td>28</td>\n",
       "      <td>high_school</td>\n",
       "      <td>0</td>\n",
       "      <td>2</td>\n",
       "      <td>9</td>\n",
       "      <td>1</td>\n",
       "      <td>1</td>\n",
       "      <td>1</td>\n",
       "      <td>1</td>\n",
       "      <td>9</td>\n",
       "    </tr>\n",
       "    <tr>\n",
       "      <th>1</th>\n",
       "      <td>0</td>\n",
       "      <td>58</td>\n",
       "      <td>unidentified</td>\n",
       "      <td>0</td>\n",
       "      <td>2</td>\n",
       "      <td>5</td>\n",
       "      <td>307</td>\n",
       "      <td>2</td>\n",
       "      <td>2</td>\n",
       "      <td>1</td>\n",
       "      <td>6</td>\n",
       "    </tr>\n",
       "    <tr>\n",
       "      <th>2</th>\n",
       "      <td>5</td>\n",
       "      <td>40</td>\n",
       "      <td>high_school</td>\n",
       "      <td>2</td>\n",
       "      <td>0</td>\n",
       "      <td>4</td>\n",
       "      <td>113</td>\n",
       "      <td>1</td>\n",
       "      <td>2</td>\n",
       "      <td>1</td>\n",
       "      <td>2</td>\n",
       "    </tr>\n",
       "    <tr>\n",
       "      <th>3</th>\n",
       "      <td>7</td>\n",
       "      <td>63</td>\n",
       "      <td>high_school</td>\n",
       "      <td>0</td>\n",
       "      <td>0</td>\n",
       "      <td>7</td>\n",
       "      <td>72</td>\n",
       "      <td>5</td>\n",
       "      <td>2</td>\n",
       "      <td>1</td>\n",
       "      <td>4</td>\n",
       "    </tr>\n",
       "    <tr>\n",
       "      <th>4</th>\n",
       "      <td>1</td>\n",
       "      <td>43</td>\n",
       "      <td>college</td>\n",
       "      <td>0</td>\n",
       "      <td>1</td>\n",
       "      <td>29</td>\n",
       "      <td>184</td>\n",
       "      <td>4</td>\n",
       "      <td>2</td>\n",
       "      <td>1</td>\n",
       "      <td>7</td>\n",
       "    </tr>\n",
       "  </tbody>\n",
       "</table>\n",
       "</div>"
      ],
      "text/plain": [
       "   occupation  age education_level  marital_status  communication_channel  \\\n",
       "0           0   28     high_school               0                      2   \n",
       "1           0   58    unidentified               0                      2   \n",
       "2           5   40     high_school               2                      0   \n",
       "3           7   63     high_school               0                      0   \n",
       "4           1   43         college               0                      1   \n",
       "\n",
       "   call_day  call_duration  call_frequency  previous_campaign_outcome  \\\n",
       "0         9              1               1                          1   \n",
       "1         5            307               2                          2   \n",
       "2         4            113               1                          2   \n",
       "3         7             72               5                          2   \n",
       "4        29            184               4                          2   \n",
       "\n",
       "   conversion_status  Months  \n",
       "0                  1       9  \n",
       "1                  1       6  \n",
       "2                  1       2  \n",
       "3                  1       4  \n",
       "4                  1       7  "
      ]
     },
     "execution_count": 50,
     "metadata": {},
     "output_type": "execute_result"
    }
   ],
   "source": [
    "df['previous_campaign_outcome']= model.fit_transform(df['previous_campaign_outcome']) \n",
    "df.head()"
   ]
  },
  {
   "cell_type": "markdown",
   "id": "ad1a8813-4a58-49cd-ae75-e84436335fa0",
   "metadata": {},
   "source": [
    "#### After creating the LabelEncoder object,  use its methods, such as fit_transform(), to encode categorical labels into numerical values."
   ]
  },
  {
   "cell_type": "code",
   "execution_count": 51,
   "id": "e99501ba-6cf7-4744-bbf2-edb9fe71b84e",
   "metadata": {},
   "outputs": [
    {
     "data": {
      "text/html": [
       "<div>\n",
       "<style scoped>\n",
       "    .dataframe tbody tr th:only-of-type {\n",
       "        vertical-align: middle;\n",
       "    }\n",
       "\n",
       "    .dataframe tbody tr th {\n",
       "        vertical-align: top;\n",
       "    }\n",
       "\n",
       "    .dataframe thead th {\n",
       "        text-align: right;\n",
       "    }\n",
       "</style>\n",
       "<table border=\"1\" class=\"dataframe\">\n",
       "  <thead>\n",
       "    <tr style=\"text-align: right;\">\n",
       "      <th></th>\n",
       "      <th>occupation</th>\n",
       "      <th>age</th>\n",
       "      <th>education_level</th>\n",
       "      <th>marital_status</th>\n",
       "      <th>communication_channel</th>\n",
       "      <th>call_day</th>\n",
       "      <th>call_duration</th>\n",
       "      <th>call_frequency</th>\n",
       "      <th>previous_campaign_outcome</th>\n",
       "      <th>conversion_status</th>\n",
       "      <th>Months</th>\n",
       "    </tr>\n",
       "  </thead>\n",
       "  <tbody>\n",
       "    <tr>\n",
       "      <th>0</th>\n",
       "      <td>0</td>\n",
       "      <td>28</td>\n",
       "      <td>2</td>\n",
       "      <td>0</td>\n",
       "      <td>2</td>\n",
       "      <td>9</td>\n",
       "      <td>1</td>\n",
       "      <td>1</td>\n",
       "      <td>1</td>\n",
       "      <td>1</td>\n",
       "      <td>9</td>\n",
       "    </tr>\n",
       "    <tr>\n",
       "      <th>1</th>\n",
       "      <td>0</td>\n",
       "      <td>58</td>\n",
       "      <td>3</td>\n",
       "      <td>0</td>\n",
       "      <td>2</td>\n",
       "      <td>5</td>\n",
       "      <td>307</td>\n",
       "      <td>2</td>\n",
       "      <td>2</td>\n",
       "      <td>1</td>\n",
       "      <td>6</td>\n",
       "    </tr>\n",
       "    <tr>\n",
       "      <th>2</th>\n",
       "      <td>5</td>\n",
       "      <td>40</td>\n",
       "      <td>2</td>\n",
       "      <td>2</td>\n",
       "      <td>0</td>\n",
       "      <td>4</td>\n",
       "      <td>113</td>\n",
       "      <td>1</td>\n",
       "      <td>2</td>\n",
       "      <td>1</td>\n",
       "      <td>2</td>\n",
       "    </tr>\n",
       "    <tr>\n",
       "      <th>3</th>\n",
       "      <td>7</td>\n",
       "      <td>63</td>\n",
       "      <td>2</td>\n",
       "      <td>0</td>\n",
       "      <td>0</td>\n",
       "      <td>7</td>\n",
       "      <td>72</td>\n",
       "      <td>5</td>\n",
       "      <td>2</td>\n",
       "      <td>1</td>\n",
       "      <td>4</td>\n",
       "    </tr>\n",
       "    <tr>\n",
       "      <th>4</th>\n",
       "      <td>1</td>\n",
       "      <td>43</td>\n",
       "      <td>0</td>\n",
       "      <td>0</td>\n",
       "      <td>1</td>\n",
       "      <td>29</td>\n",
       "      <td>184</td>\n",
       "      <td>4</td>\n",
       "      <td>2</td>\n",
       "      <td>1</td>\n",
       "      <td>7</td>\n",
       "    </tr>\n",
       "  </tbody>\n",
       "</table>\n",
       "</div>"
      ],
      "text/plain": [
       "   occupation  age  education_level  marital_status  communication_channel  \\\n",
       "0           0   28                2               0                      2   \n",
       "1           0   58                3               0                      2   \n",
       "2           5   40                2               2                      0   \n",
       "3           7   63                2               0                      0   \n",
       "4           1   43                0               0                      1   \n",
       "\n",
       "   call_day  call_duration  call_frequency  previous_campaign_outcome  \\\n",
       "0         9              1               1                          1   \n",
       "1         5            307               2                          2   \n",
       "2         4            113               1                          2   \n",
       "3         7             72               5                          2   \n",
       "4        29            184               4                          2   \n",
       "\n",
       "   conversion_status  Months  \n",
       "0                  1       9  \n",
       "1                  1       6  \n",
       "2                  1       2  \n",
       "3                  1       4  \n",
       "4                  1       7  "
      ]
     },
     "execution_count": 51,
     "metadata": {},
     "output_type": "execute_result"
    }
   ],
   "source": [
    "df['education_level']= model.fit_transform(df['education_level']) \n",
    "df.head()"
   ]
  },
  {
   "cell_type": "markdown",
   "id": "50984af3-0e62-4177-b87c-c810bfffc450",
   "metadata": {},
   "source": [
    "#### By using Correlation matrix evaluate the relationship between two variables in a data set\n",
    "\n",
    "* corr_matrix = df.corr(): correlation matrix for a DataFrame df. The corr() method computes pairwise correlation of columns.\n",
    "* plt.figure(figsize=(10, 8)): This line creates a figure object for plotting using Matplotlib with a specified figure size of 10 inches by 8 inches.\n",
    "* sns.heatmap(corr_matrix, annot=True): This line uses Seaborn's heatmap function to create a heatmap visualization of the correlation matrix (corr_matrix). The annot=True parameter adds numerical annotations to the heatmap cells, showing the actual correlation values.\n",
    "* plt.title('Correlation Matrix'): This line sets the title of the plot to 'Correlation Matrix'.\n",
    "* plt.show(): it will show plot"
   ]
  },
  {
   "cell_type": "code",
   "execution_count": 101,
   "id": "c98ae30b-800e-4343-9ac6-d58a13b2c6e0",
   "metadata": {},
   "outputs": [
    {
     "data": {
      "image/png": "[encoded data removed]",
      "text/plain": [
       "<Figure size 1000x800 with 2 Axes>"
      ]
     },
     "metadata": {},
     "output_type": "display_data"
    }
   ],
   "source": [
    "corr_matrix = df.corr()\n",
    "plt.figure(figsize=(10, 8))\n",
    "sns.heatmap(corr_matrix, annot=True)\n",
    "plt.title('Correlation Matrix')\n",
    "plt.show()"
   ]
  },
  {
   "cell_type": "markdown",
   "id": "0bf3a91d-e4bd-4288-ae76-ac96f999bac7",
   "metadata": {},
   "source": [
    "#### Correlation of columns\n",
    "* df[[\"age\",\"conversion_status\"]]: This part of the code selects the columns \"age\" and \"conversion_status\" from the DataFrame df. The double square brackets [[...]] are used to create a DataFrame containing only these two columns.\r\n",
    "* \r\n",
    ".corr(method=\"pearson\"): This part of the code calculates the correlation between the selected columns."
   ]
  },
  {
   "cell_type": "code",
   "execution_count": 53,
   "id": "f1afd771-68df-4add-b9ab-1d1a5c9bbadd",
   "metadata": {},
   "outputs": [
    {
     "data": {
      "text/html": [
       "<div>\n",
       "<style scoped>\n",
       "    .dataframe tbody tr th:only-of-type {\n",
       "        vertical-align: middle;\n",
       "    }\n",
       "\n",
       "    .dataframe tbody tr th {\n",
       "        vertical-align: top;\n",
       "    }\n",
       "\n",
       "    .dataframe thead th {\n",
       "        text-align: right;\n",
       "    }\n",
       "</style>\n",
       "<table border=\"1\" class=\"dataframe\">\n",
       "  <thead>\n",
       "    <tr style=\"text-align: right;\">\n",
       "      <th></th>\n",
       "      <th>age</th>\n",
       "      <th>conversion_status</th>\n",
       "    </tr>\n",
       "  </thead>\n",
       "  <tbody>\n",
       "    <tr>\n",
       "      <th>age</th>\n",
       "      <td>1.000000</td>\n",
       "      <td>-0.025126</td>\n",
       "    </tr>\n",
       "    <tr>\n",
       "      <th>conversion_status</th>\n",
       "      <td>-0.025126</td>\n",
       "      <td>1.000000</td>\n",
       "    </tr>\n",
       "  </tbody>\n",
       "</table>\n",
       "</div>"
      ],
      "text/plain": [
       "                        age  conversion_status\n",
       "age                1.000000          -0.025126\n",
       "conversion_status -0.025126           1.000000"
      ]
     },
     "execution_count": 53,
     "metadata": {},
     "output_type": "execute_result"
    }
   ],
   "source": [
    "df[[\"age\",\"conversion_status\"]].corr(method=\"pearson\") "
   ]
  },
  {
   "cell_type": "markdown",
   "id": "f79efb69-2bef-457a-88ca-24cd9dd1f9e9",
   "metadata": {},
   "source": [
    "#### Correlation of columns\n",
    "* df[[\"occupation\",\"conversion_status\"]]: This part of the code selects the columns \"occupation\" and \"conversion_status\" from the DataFrame df. The double square brackets [[...]] are used to create a DataFrame containing only these two columns.\n",
    "\n",
    "* .corr(method=\"pearson\"): This part of the code calculates the correlation between the selected columns."
   ]
  },
  {
   "cell_type": "code",
   "execution_count": 54,
   "id": "dd8cee7c-b0fb-4255-80ac-acdff4232e81",
   "metadata": {},
   "outputs": [
    {
     "data": {
      "text/html": [
       "<div>\n",
       "<style scoped>\n",
       "    .dataframe tbody tr th:only-of-type {\n",
       "        vertical-align: middle;\n",
       "    }\n",
       "\n",
       "    .dataframe tbody tr th {\n",
       "        vertical-align: top;\n",
       "    }\n",
       "\n",
       "    .dataframe thead th {\n",
       "        text-align: right;\n",
       "    }\n",
       "</style>\n",
       "<table border=\"1\" class=\"dataframe\">\n",
       "  <thead>\n",
       "    <tr style=\"text-align: right;\">\n",
       "      <th></th>\n",
       "      <th>occupation</th>\n",
       "      <th>conversion_status</th>\n",
       "    </tr>\n",
       "  </thead>\n",
       "  <tbody>\n",
       "    <tr>\n",
       "      <th>occupation</th>\n",
       "      <td>1.000000</td>\n",
       "      <td>0.001993</td>\n",
       "    </tr>\n",
       "    <tr>\n",
       "      <th>conversion_status</th>\n",
       "      <td>0.001993</td>\n",
       "      <td>1.000000</td>\n",
       "    </tr>\n",
       "  </tbody>\n",
       "</table>\n",
       "</div>"
      ],
      "text/plain": [
       "                   occupation  conversion_status\n",
       "occupation           1.000000           0.001993\n",
       "conversion_status    0.001993           1.000000"
      ]
     },
     "execution_count": 54,
     "metadata": {},
     "output_type": "execute_result"
    }
   ],
   "source": [
    "df[[\"occupation\",\"conversion_status\"]].corr(method=\"pearson\") "
   ]
  },
  {
   "cell_type": "markdown",
   "id": "20476acf-df49-4e80-bf8e-4be5a1363ec2",
   "metadata": {},
   "source": [
    "#### Correlation of columns\n",
    "* df[[\"communication_channel\",\"conversion_status\"]]: This part of the code selects the columns \"communication_channel\" and \"conversion_status\" from the DataFrame df. The double square brackets [[...]] are used to create a DataFrame containing only these two columns.\n",
    "\n",
    "* .corr(method=\"pearson\"): This part of the code calculates the correlation between the selected columns."
   ]
  },
  {
   "cell_type": "code",
   "execution_count": 55,
   "id": "11c66283-334e-4f20-bf52-2fa35f5a4097",
   "metadata": {},
   "outputs": [
    {
     "data": {
      "text/html": [
       "<div>\n",
       "<style scoped>\n",
       "    .dataframe tbody tr th:only-of-type {\n",
       "        vertical-align: middle;\n",
       "    }\n",
       "\n",
       "    .dataframe tbody tr th {\n",
       "        vertical-align: top;\n",
       "    }\n",
       "\n",
       "    .dataframe thead th {\n",
       "        text-align: right;\n",
       "    }\n",
       "</style>\n",
       "<table border=\"1\" class=\"dataframe\">\n",
       "  <thead>\n",
       "    <tr style=\"text-align: right;\">\n",
       "      <th></th>\n",
       "      <th>communication_channel</th>\n",
       "      <th>conversion_status</th>\n",
       "    </tr>\n",
       "  </thead>\n",
       "  <tbody>\n",
       "    <tr>\n",
       "      <th>communication_channel</th>\n",
       "      <td>1.000000</td>\n",
       "      <td>0.148391</td>\n",
       "    </tr>\n",
       "    <tr>\n",
       "      <th>conversion_status</th>\n",
       "      <td>0.148391</td>\n",
       "      <td>1.000000</td>\n",
       "    </tr>\n",
       "  </tbody>\n",
       "</table>\n",
       "</div>"
      ],
      "text/plain": [
       "                       communication_channel  conversion_status\n",
       "communication_channel               1.000000           0.148391\n",
       "conversion_status                   0.148391           1.000000"
      ]
     },
     "execution_count": 55,
     "metadata": {},
     "output_type": "execute_result"
    }
   ],
   "source": [
    "df[[\"communication_channel\",\"conversion_status\"]].corr(method=\"pearson\")"
   ]
  },
  {
   "cell_type": "markdown",
   "id": "cd99e9c6-6bf0-4f5f-865a-b7d6c349c9cc",
   "metadata": {},
   "source": [
    "#### Correlation of columns\n",
    "* df[[\"previous_campaign_outcome\",\"conversion_status\"]]: This  code selects the columns \"previous_campaign_outcome\" and \"conversion_status\" from the DataFrame df. The double square brackets [[...]] are used to create a DataFrame containing only these two columns.\n",
    "\n",
    "* .corr(method=\"pearson\"): This part of the code calculates the correlation between the selected columns."
   ]
  },
  {
   "cell_type": "code",
   "execution_count": 56,
   "id": "a223a531-ea95-4c3c-8a74-021132d3ee8d",
   "metadata": {},
   "outputs": [
    {
     "data": {
      "text/html": [
       "<div>\n",
       "<style scoped>\n",
       "    .dataframe tbody tr th:only-of-type {\n",
       "        vertical-align: middle;\n",
       "    }\n",
       "\n",
       "    .dataframe tbody tr th {\n",
       "        vertical-align: top;\n",
       "    }\n",
       "\n",
       "    .dataframe thead th {\n",
       "        text-align: right;\n",
       "    }\n",
       "</style>\n",
       "<table border=\"1\" class=\"dataframe\">\n",
       "  <thead>\n",
       "    <tr style=\"text-align: right;\">\n",
       "      <th></th>\n",
       "      <th>previous_campaign_outcome</th>\n",
       "      <th>conversion_status</th>\n",
       "    </tr>\n",
       "  </thead>\n",
       "  <tbody>\n",
       "    <tr>\n",
       "      <th>previous_campaign_outcome</th>\n",
       "      <td>1.000000</td>\n",
       "      <td>0.117226</td>\n",
       "    </tr>\n",
       "    <tr>\n",
       "      <th>conversion_status</th>\n",
       "      <td>0.117226</td>\n",
       "      <td>1.000000</td>\n",
       "    </tr>\n",
       "  </tbody>\n",
       "</table>\n",
       "</div>"
      ],
      "text/plain": [
       "                           previous_campaign_outcome  conversion_status\n",
       "previous_campaign_outcome                   1.000000           0.117226\n",
       "conversion_status                           0.117226           1.000000"
      ]
     },
     "execution_count": 56,
     "metadata": {},
     "output_type": "execute_result"
    }
   ],
   "source": [
    "df[[\"previous_campaign_outcome\",\"conversion_status\"]].corr(method=\"pearson\") "
   ]
  },
  {
   "cell_type": "markdown",
   "id": "f6353e13-a9b7-40c4-bcc5-a411547b8a2a",
   "metadata": {},
   "source": [
    "#### Droping conversio status it target column\n",
    "* X: A DataFrame containing all the features except the \"conversion_status\" column.\r",
    "* \n",
    "y: A Series containing the \"conversion_status\" column values, which represent the target variable."
   ]
  },
  {
   "cell_type": "code",
   "execution_count": 57,
   "id": "3cb3b597-70cb-4f5a-b8cd-524a59a97cc5",
   "metadata": {},
   "outputs": [],
   "source": [
    "X=df.drop(\"conversion_status\",axis=1)\n",
    "y=df[\"conversion_status\"]"
   ]
  },
  {
   "cell_type": "markdown",
   "id": "11ed429f-7741-4880-82dc-a5b03b7c591b",
   "metadata": {},
   "source": [
    "#### Spliting dataset into traing and testing\n",
    "* train_test_split function divides into two sets: training set (X_train, y_train) and testing set (X_test, y_test)."
   ]
  },
  {
   "cell_type": "code",
   "execution_count": 58,
   "id": "3fa51537-1f4f-433e-a4f6-5f1ad875dc1f",
   "metadata": {},
   "outputs": [],
   "source": [
    "X_train, X_test, y_train, y_test = train_test_split(X, y, test_size=0.2, random_state=42)"
   ]
  },
  {
   "cell_type": "code",
   "execution_count": 59,
   "id": "735c4e24-8c52-4a73-9412-21fa6db30131",
   "metadata": {},
   "outputs": [
    {
     "data": {
      "text/html": [
       "<div>\n",
       "<style scoped>\n",
       "    .dataframe tbody tr th:only-of-type {\n",
       "        vertical-align: middle;\n",
       "    }\n",
       "\n",
       "    .dataframe tbody tr th {\n",
       "        vertical-align: top;\n",
       "    }\n",
       "\n",
       "    .dataframe thead th {\n",
       "        text-align: right;\n",
       "    }\n",
       "</style>\n",
       "<table border=\"1\" class=\"dataframe\">\n",
       "  <thead>\n",
       "    <tr style=\"text-align: right;\">\n",
       "      <th></th>\n",
       "      <th>occupation</th>\n",
       "      <th>age</th>\n",
       "      <th>education_level</th>\n",
       "      <th>marital_status</th>\n",
       "      <th>communication_channel</th>\n",
       "      <th>call_day</th>\n",
       "      <th>call_duration</th>\n",
       "      <th>call_frequency</th>\n",
       "      <th>previous_campaign_outcome</th>\n",
       "      <th>Months</th>\n",
       "    </tr>\n",
       "  </thead>\n",
       "  <tbody>\n",
       "    <tr>\n",
       "      <th>22091</th>\n",
       "      <td>6</td>\n",
       "      <td>33</td>\n",
       "      <td>1</td>\n",
       "      <td>1</td>\n",
       "      <td>2</td>\n",
       "      <td>7</td>\n",
       "      <td>102</td>\n",
       "      <td>1</td>\n",
       "      <td>2</td>\n",
       "      <td>5</td>\n",
       "    </tr>\n",
       "    <tr>\n",
       "      <th>22762</th>\n",
       "      <td>10</td>\n",
       "      <td>46</td>\n",
       "      <td>2</td>\n",
       "      <td>0</td>\n",
       "      <td>1</td>\n",
       "      <td>31</td>\n",
       "      <td>43</td>\n",
       "      <td>5</td>\n",
       "      <td>2</td>\n",
       "      <td>7</td>\n",
       "    </tr>\n",
       "    <tr>\n",
       "      <th>44927</th>\n",
       "      <td>3</td>\n",
       "      <td>41</td>\n",
       "      <td>0</td>\n",
       "      <td>0</td>\n",
       "      <td>2</td>\n",
       "      <td>20</td>\n",
       "      <td>7</td>\n",
       "      <td>3</td>\n",
       "      <td>2</td>\n",
       "      <td>6</td>\n",
       "    </tr>\n",
       "    <tr>\n",
       "      <th>8807</th>\n",
       "      <td>3</td>\n",
       "      <td>29</td>\n",
       "      <td>0</td>\n",
       "      <td>1</td>\n",
       "      <td>0</td>\n",
       "      <td>28</td>\n",
       "      <td>154</td>\n",
       "      <td>2</td>\n",
       "      <td>3</td>\n",
       "      <td>1</td>\n",
       "    </tr>\n",
       "    <tr>\n",
       "      <th>18647</th>\n",
       "      <td>3</td>\n",
       "      <td>49</td>\n",
       "      <td>1</td>\n",
       "      <td>1</td>\n",
       "      <td>1</td>\n",
       "      <td>31</td>\n",
       "      <td>115</td>\n",
       "      <td>6</td>\n",
       "      <td>2</td>\n",
       "      <td>7</td>\n",
       "    </tr>\n",
       "    <tr>\n",
       "      <th>...</th>\n",
       "      <td>...</td>\n",
       "      <td>...</td>\n",
       "      <td>...</td>\n",
       "      <td>...</td>\n",
       "      <td>...</td>\n",
       "      <td>...</td>\n",
       "      <td>...</td>\n",
       "      <td>...</td>\n",
       "      <td>...</td>\n",
       "      <td>...</td>\n",
       "    </tr>\n",
       "    <tr>\n",
       "      <th>3344</th>\n",
       "      <td>6</td>\n",
       "      <td>32</td>\n",
       "      <td>2</td>\n",
       "      <td>1</td>\n",
       "      <td>0</td>\n",
       "      <td>28</td>\n",
       "      <td>86</td>\n",
       "      <td>4</td>\n",
       "      <td>2</td>\n",
       "      <td>7</td>\n",
       "    </tr>\n",
       "    <tr>\n",
       "      <th>10135</th>\n",
       "      <td>6</td>\n",
       "      <td>33</td>\n",
       "      <td>2</td>\n",
       "      <td>0</td>\n",
       "      <td>0</td>\n",
       "      <td>7</td>\n",
       "      <td>1063</td>\n",
       "      <td>1</td>\n",
       "      <td>2</td>\n",
       "      <td>4</td>\n",
       "    </tr>\n",
       "    <tr>\n",
       "      <th>21082</th>\n",
       "      <td>3</td>\n",
       "      <td>32</td>\n",
       "      <td>2</td>\n",
       "      <td>1</td>\n",
       "      <td>2</td>\n",
       "      <td>23</td>\n",
       "      <td>139</td>\n",
       "      <td>1</td>\n",
       "      <td>2</td>\n",
       "      <td>5</td>\n",
       "    </tr>\n",
       "    <tr>\n",
       "      <th>13596</th>\n",
       "      <td>10</td>\n",
       "      <td>46</td>\n",
       "      <td>2</td>\n",
       "      <td>2</td>\n",
       "      <td>2</td>\n",
       "      <td>26</td>\n",
       "      <td>200</td>\n",
       "      <td>3</td>\n",
       "      <td>2</td>\n",
       "      <td>5</td>\n",
       "    </tr>\n",
       "    <tr>\n",
       "      <th>27908</th>\n",
       "      <td>8</td>\n",
       "      <td>43</td>\n",
       "      <td>2</td>\n",
       "      <td>0</td>\n",
       "      <td>2</td>\n",
       "      <td>19</td>\n",
       "      <td>277</td>\n",
       "      <td>3</td>\n",
       "      <td>2</td>\n",
       "      <td>5</td>\n",
       "    </tr>\n",
       "  </tbody>\n",
       "</table>\n",
       "<p>9041 rows × 10 columns</p>\n",
       "</div>"
      ],
      "text/plain": [
       "       occupation  age  education_level  marital_status  \\\n",
       "22091           6   33                1               1   \n",
       "22762          10   46                2               0   \n",
       "44927           3   41                0               0   \n",
       "8807            3   29                0               1   \n",
       "18647           3   49                1               1   \n",
       "...           ...  ...              ...             ...   \n",
       "3344            6   32                2               1   \n",
       "10135           6   33                2               0   \n",
       "21082           3   32                2               1   \n",
       "13596          10   46                2               2   \n",
       "27908           8   43                2               0   \n",
       "\n",
       "       communication_channel  call_day  call_duration  call_frequency  \\\n",
       "22091                      2         7            102               1   \n",
       "22762                      1        31             43               5   \n",
       "44927                      2        20              7               3   \n",
       "8807                       0        28            154               2   \n",
       "18647                      1        31            115               6   \n",
       "...                      ...       ...            ...             ...   \n",
       "3344                       0        28             86               4   \n",
       "10135                      0         7           1063               1   \n",
       "21082                      2        23            139               1   \n",
       "13596                      2        26            200               3   \n",
       "27908                      2        19            277               3   \n",
       "\n",
       "       previous_campaign_outcome  Months  \n",
       "22091                          2       5  \n",
       "22762                          2       7  \n",
       "44927                          2       6  \n",
       "8807                           3       1  \n",
       "18647                          2       7  \n",
       "...                          ...     ...  \n",
       "3344                           2       7  \n",
       "10135                          2       4  \n",
       "21082                          2       5  \n",
       "13596                          2       5  \n",
       "27908                          2       5  \n",
       "\n",
       "[9041 rows x 10 columns]"
      ]
     },
     "execution_count": 59,
     "metadata": {},
     "output_type": "execute_result"
    }
   ],
   "source": [
    "X_test"
   ]
  },
  {
   "cell_type": "code",
   "execution_count": 60,
   "id": "4572afae-c5e5-449b-a2d6-79e94c2d88a5",
   "metadata": {},
   "outputs": [
    {
     "data": {
      "text/html": [
       "<div>\n",
       "<style scoped>\n",
       "    .dataframe tbody tr th:only-of-type {\n",
       "        vertical-align: middle;\n",
       "    }\n",
       "\n",
       "    .dataframe tbody tr th {\n",
       "        vertical-align: top;\n",
       "    }\n",
       "\n",
       "    .dataframe thead th {\n",
       "        text-align: right;\n",
       "    }\n",
       "</style>\n",
       "<table border=\"1\" class=\"dataframe\">\n",
       "  <thead>\n",
       "    <tr style=\"text-align: right;\">\n",
       "      <th></th>\n",
       "      <th>occupation</th>\n",
       "      <th>age</th>\n",
       "      <th>education_level</th>\n",
       "      <th>marital_status</th>\n",
       "      <th>communication_channel</th>\n",
       "      <th>call_day</th>\n",
       "      <th>call_duration</th>\n",
       "      <th>call_frequency</th>\n",
       "      <th>previous_campaign_outcome</th>\n",
       "      <th>Months</th>\n",
       "    </tr>\n",
       "  </thead>\n",
       "  <tbody>\n",
       "    <tr>\n",
       "      <th>23090</th>\n",
       "      <td>0</td>\n",
       "      <td>32</td>\n",
       "      <td>2</td>\n",
       "      <td>2</td>\n",
       "      <td>0</td>\n",
       "      <td>14</td>\n",
       "      <td>90</td>\n",
       "      <td>2</td>\n",
       "      <td>2</td>\n",
       "      <td>7</td>\n",
       "    </tr>\n",
       "    <tr>\n",
       "      <th>6633</th>\n",
       "      <td>3</td>\n",
       "      <td>46</td>\n",
       "      <td>0</td>\n",
       "      <td>1</td>\n",
       "      <td>2</td>\n",
       "      <td>18</td>\n",
       "      <td>107</td>\n",
       "      <td>1</td>\n",
       "      <td>2</td>\n",
       "      <td>6</td>\n",
       "    </tr>\n",
       "    <tr>\n",
       "      <th>313</th>\n",
       "      <td>6</td>\n",
       "      <td>51</td>\n",
       "      <td>1</td>\n",
       "      <td>0</td>\n",
       "      <td>2</td>\n",
       "      <td>26</td>\n",
       "      <td>153</td>\n",
       "      <td>1</td>\n",
       "      <td>2</td>\n",
       "      <td>5</td>\n",
       "    </tr>\n",
       "    <tr>\n",
       "      <th>16522</th>\n",
       "      <td>8</td>\n",
       "      <td>41</td>\n",
       "      <td>1</td>\n",
       "      <td>2</td>\n",
       "      <td>0</td>\n",
       "      <td>31</td>\n",
       "      <td>73</td>\n",
       "      <td>1</td>\n",
       "      <td>2</td>\n",
       "      <td>7</td>\n",
       "    </tr>\n",
       "    <tr>\n",
       "      <th>44313</th>\n",
       "      <td>6</td>\n",
       "      <td>29</td>\n",
       "      <td>1</td>\n",
       "      <td>0</td>\n",
       "      <td>2</td>\n",
       "      <td>28</td>\n",
       "      <td>165</td>\n",
       "      <td>1</td>\n",
       "      <td>2</td>\n",
       "      <td>5</td>\n",
       "    </tr>\n",
       "    <tr>\n",
       "      <th>...</th>\n",
       "      <td>...</td>\n",
       "      <td>...</td>\n",
       "      <td>...</td>\n",
       "      <td>...</td>\n",
       "      <td>...</td>\n",
       "      <td>...</td>\n",
       "      <td>...</td>\n",
       "      <td>...</td>\n",
       "      <td>...</td>\n",
       "      <td>...</td>\n",
       "    </tr>\n",
       "    <tr>\n",
       "      <th>11284</th>\n",
       "      <td>10</td>\n",
       "      <td>46</td>\n",
       "      <td>2</td>\n",
       "      <td>0</td>\n",
       "      <td>2</td>\n",
       "      <td>5</td>\n",
       "      <td>92</td>\n",
       "      <td>1</td>\n",
       "      <td>2</td>\n",
       "      <td>6</td>\n",
       "    </tr>\n",
       "    <tr>\n",
       "      <th>44738</th>\n",
       "      <td>8</td>\n",
       "      <td>47</td>\n",
       "      <td>2</td>\n",
       "      <td>0</td>\n",
       "      <td>2</td>\n",
       "      <td>12</td>\n",
       "      <td>112</td>\n",
       "      <td>1</td>\n",
       "      <td>2</td>\n",
       "      <td>6</td>\n",
       "    </tr>\n",
       "    <tr>\n",
       "      <th>38162</th>\n",
       "      <td>6</td>\n",
       "      <td>39</td>\n",
       "      <td>2</td>\n",
       "      <td>0</td>\n",
       "      <td>0</td>\n",
       "      <td>21</td>\n",
       "      <td>239</td>\n",
       "      <td>2</td>\n",
       "      <td>3</td>\n",
       "      <td>11</td>\n",
       "    </tr>\n",
       "    <tr>\n",
       "      <th>860</th>\n",
       "      <td>4</td>\n",
       "      <td>32</td>\n",
       "      <td>0</td>\n",
       "      <td>0</td>\n",
       "      <td>0</td>\n",
       "      <td>20</td>\n",
       "      <td>228</td>\n",
       "      <td>1</td>\n",
       "      <td>2</td>\n",
       "      <td>11</td>\n",
       "    </tr>\n",
       "    <tr>\n",
       "      <th>15795</th>\n",
       "      <td>5</td>\n",
       "      <td>59</td>\n",
       "      <td>2</td>\n",
       "      <td>2</td>\n",
       "      <td>0</td>\n",
       "      <td>14</td>\n",
       "      <td>185</td>\n",
       "      <td>3</td>\n",
       "      <td>3</td>\n",
       "      <td>8</td>\n",
       "    </tr>\n",
       "  </tbody>\n",
       "</table>\n",
       "<p>36164 rows × 10 columns</p>\n",
       "</div>"
      ],
      "text/plain": [
       "       occupation  age  education_level  marital_status  \\\n",
       "23090           0   32                2               2   \n",
       "6633            3   46                0               1   \n",
       "313             6   51                1               0   \n",
       "16522           8   41                1               2   \n",
       "44313           6   29                1               0   \n",
       "...           ...  ...              ...             ...   \n",
       "11284          10   46                2               0   \n",
       "44738           8   47                2               0   \n",
       "38162           6   39                2               0   \n",
       "860             4   32                0               0   \n",
       "15795           5   59                2               2   \n",
       "\n",
       "       communication_channel  call_day  call_duration  call_frequency  \\\n",
       "23090                      0        14             90               2   \n",
       "6633                       2        18            107               1   \n",
       "313                        2        26            153               1   \n",
       "16522                      0        31             73               1   \n",
       "44313                      2        28            165               1   \n",
       "...                      ...       ...            ...             ...   \n",
       "11284                      2         5             92               1   \n",
       "44738                      2        12            112               1   \n",
       "38162                      0        21            239               2   \n",
       "860                        0        20            228               1   \n",
       "15795                      0        14            185               3   \n",
       "\n",
       "       previous_campaign_outcome  Months  \n",
       "23090                          2       7  \n",
       "6633                           2       6  \n",
       "313                            2       5  \n",
       "16522                          2       7  \n",
       "44313                          2       5  \n",
       "...                          ...     ...  \n",
       "11284                          2       6  \n",
       "44738                          2       6  \n",
       "38162                          3      11  \n",
       "860                            2      11  \n",
       "15795                          3       8  \n",
       "\n",
       "[36164 rows x 10 columns]"
      ]
     },
     "execution_count": 60,
     "metadata": {},
     "output_type": "execute_result"
    }
   ],
   "source": [
    "X_train"
   ]
  },
  {
   "cell_type": "markdown",
   "id": "8c4f58e1-a5b8-4bca-8271-dfa21539d494",
   "metadata": {},
   "source": [
    "* Shape of X_train"
   ]
  },
  {
   "cell_type": "code",
   "execution_count": 61,
   "id": "53288a20-ffd3-436c-86b1-391ca7a5c48a",
   "metadata": {},
   "outputs": [
    {
     "data": {
      "text/plain": [
       "(36164, 10)"
      ]
     },
     "execution_count": 61,
     "metadata": {},
     "output_type": "execute_result"
    }
   ],
   "source": [
    "X_train.shape"
   ]
  },
  {
   "cell_type": "markdown",
   "id": "cfadd251-ceb5-4259-bf05-f9735ada68b1",
   "metadata": {},
   "source": [
    "* Shape of X_test"
   ]
  },
  {
   "cell_type": "code",
   "execution_count": 62,
   "id": "04ccd8bb-7274-4168-82f4-186a2dd4e3e1",
   "metadata": {},
   "outputs": [
    {
     "data": {
      "text/plain": [
       "(9041, 10)"
      ]
     },
     "execution_count": 62,
     "metadata": {},
     "output_type": "execute_result"
    }
   ],
   "source": [
    "X_test.shape"
   ]
  },
  {
   "cell_type": "markdown",
   "id": "871b92c7-b191-435a-be2c-dcf2a6e3bc56",
   "metadata": {},
   "source": [
    "## **Model Building**"
   ]
  },
  {
   "cell_type": "markdown",
   "id": "6c9efecc-5ce4-4c60-95fa-7d9de7abd2a0",
   "metadata": {},
   "source": [
    "### * Bulding model with LogisticRegression\n",
    "   * Logistic Regression is a widely used statistical technique for binary classification tasks, using in model building has reasons:\n",
    "      * Logistic Regression provides straightforward interpretation of results.\n",
    "      *  Logistic Regression can be regularized to prevent overfittingon"
   ]
  },
  {
   "cell_type": "markdown",
   "id": "bb1ef9ca-6bda-4f6d-b7d8-c5e485a5bdd7",
   "metadata": {},
   "source": [
    "* LogisticRegression() creates an instance of the Logistic Regression algorithm and assigns it to the variable model."
   ]
  },
  {
   "cell_type": "code",
   "execution_count": 63,
   "id": "957a2fee-e014-4708-85b3-79330534d7b1",
   "metadata": {},
   "outputs": [],
   "source": [
    "lr=LogisticRegression()"
   ]
  },
  {
   "cell_type": "markdown",
   "id": "f8e4816b-b397-4e54-af86-38c619e3d1ba",
   "metadata": {},
   "source": [
    "* it is used to train (fit) a machine learning model using training data"
   ]
  },
  {
   "cell_type": "code",
   "execution_count": 64,
   "id": "79db90f8-ed8a-4a67-989b-a8eefbe8dd0f",
   "metadata": {},
   "outputs": [
    {
     "data": {
      "text/html": [
       "<style>#sk-container-id-1 {color: black;}#sk-container-id-1 pre{padding: 0;}#sk-container-id-1 div.sk-toggleable {background-color: white;}#sk-container-id-1 label.sk-toggleable__label {cursor: pointer;display: block;width: 100%;margin-bottom: 0;padding: 0.3em;box-sizing: border-box;text-align: center;}#sk-container-id-1 label.sk-toggleable__label-arrow:before {content: \"▸\";float: left;margin-right: 0.25em;color: #696969;}#sk-container-id-1 label.sk-toggleable__label-arrow:hover:before {color: black;}#sk-container-id-1 div.sk-estimator:hover label.sk-toggleable__label-arrow:before {color: black;}#sk-container-id-1 div.sk-toggleable__content {max-height: 0;max-width: 0;overflow: hidden;text-align: left;background-color: #f0f8ff;}#sk-container-id-1 div.sk-toggleable__content pre {margin: 0.2em;color: black;border-radius: 0.25em;background-color: #f0f8ff;}#sk-container-id-1 input.sk-toggleable__control:checked~div.sk-toggleable__content {max-height: 200px;max-width: 100%;overflow: auto;}#sk-container-id-1 input.sk-toggleable__control:checked~label.sk-toggleable__label-arrow:before {content: \"▾\";}#sk-container-id-1 div.sk-estimator input.sk-toggleable__control:checked~label.sk-toggleable__label {background-color: #d4ebff;}#sk-container-id-1 div.sk-label input.sk-toggleable__control:checked~label.sk-toggleable__label {background-color: #d4ebff;}#sk-container-id-1 input.sk-hidden--visually {border: 0;clip: rect(1px 1px 1px 1px);clip: rect(1px, 1px, 1px, 1px);height: 1px;margin: -1px;overflow: hidden;padding: 0;position: absolute;width: 1px;}#sk-container-id-1 div.sk-estimator {font-family: monospace;background-color: #f0f8ff;border: 1px dotted black;border-radius: 0.25em;box-sizing: border-box;margin-bottom: 0.5em;}#sk-container-id-1 div.sk-estimator:hover {background-color: #d4ebff;}#sk-container-id-1 div.sk-parallel-item::after {content: \"\";width: 100%;border-bottom: 1px solid gray;flex-grow: 1;}#sk-container-id-1 div.sk-label:hover label.sk-toggleable__label {background-color: #d4ebff;}#sk-container-id-1 div.sk-serial::before {content: \"\";position: absolute;border-left: 1px solid gray;box-sizing: border-box;top: 0;bottom: 0;left: 50%;z-index: 0;}#sk-container-id-1 div.sk-serial {display: flex;flex-direction: column;align-items: center;background-color: white;padding-right: 0.2em;padding-left: 0.2em;position: relative;}#sk-container-id-1 div.sk-item {position: relative;z-index: 1;}#sk-container-id-1 div.sk-parallel {display: flex;align-items: stretch;justify-content: center;background-color: white;position: relative;}#sk-container-id-1 div.sk-item::before, #sk-container-id-1 div.sk-parallel-item::before {content: \"\";position: absolute;border-left: 1px solid gray;box-sizing: border-box;top: 0;bottom: 0;left: 50%;z-index: -1;}#sk-container-id-1 div.sk-parallel-item {display: flex;flex-direction: column;z-index: 1;position: relative;background-color: white;}#sk-container-id-1 div.sk-parallel-item:first-child::after {align-self: flex-end;width: 50%;}#sk-container-id-1 div.sk-parallel-item:last-child::after {align-self: flex-start;width: 50%;}#sk-container-id-1 div.sk-parallel-item:only-child::after {width: 0;}#sk-container-id-1 div.sk-dashed-wrapped {border: 1px dashed gray;margin: 0 0.4em 0.5em 0.4em;box-sizing: border-box;padding-bottom: 0.4em;background-color: white;}#sk-container-id-1 div.sk-label label {font-family: monospace;font-weight: bold;display: inline-block;line-height: 1.2em;}#sk-container-id-1 div.sk-label-container {text-align: center;}#sk-container-id-1 div.sk-container {/* jupyter's `normalize.less` sets `[hidden] { display: none; }` but bootstrap.min.css set `[hidden] { display: none !important; }` so we also need the `!important` here to be able to override the default hidden behavior on the sphinx rendered scikit-learn.org. See: https://github.com/scikit-learn/scikit-learn/issues/21755 */display: inline-block !important;position: relative;}#sk-container-id-1 div.sk-text-repr-fallback {display: none;}</style><div id=\"sk-container-id-1\" class=\"sk-top-container\"><div class=\"sk-text-repr-fallback\"><pre>LogisticRegression()</pre><b>In a Jupyter environment, please rerun this cell to show the HTML representation or trust the notebook. <br />On GitHub, the HTML representation is unable to render, please try loading this page with nbviewer.org.</b></div><div class=\"sk-container\" hidden><div class=\"sk-item\"><div class=\"sk-estimator sk-toggleable\"><input class=\"sk-toggleable__control sk-hidden--visually\" id=\"sk-estimator-id-1\" type=\"checkbox\" checked><label for=\"sk-estimator-id-1\" class=\"sk-toggleable__label sk-toggleable__label-arrow\">LogisticRegression</label><div class=\"sk-toggleable__content\"><pre>LogisticRegression()</pre></div></div></div></div></div>"
      ],
      "text/plain": [
       "LogisticRegression()"
      ]
     },
     "execution_count": 64,
     "metadata": {},
     "output_type": "execute_result"
    }
   ],
   "source": [
    "lr.fit(X_train,y_train)"
   ]
  },
  {
   "cell_type": "markdown",
   "id": "3603f2a5-3269-4c65-b479-446a39391eea",
   "metadata": {},
   "source": [
    "* It is used to make predictions using a trained machine learning model (model) on new, unseen data (X_test)."
   ]
  },
  {
   "cell_type": "code",
   "execution_count": 65,
   "id": "2cf99325-a78d-4d03-8947-f84c4a475c0a",
   "metadata": {},
   "outputs": [],
   "source": [
    "y_pred=lr.predict(X_test)"
   ]
  },
  {
   "cell_type": "markdown",
   "id": "d39d4424-de5d-40cf-af58-cda4eb3dab92",
   "metadata": {},
   "source": [
    "* This function  calculate the accuracy  model's predictions."
   ]
  },
  {
   "cell_type": "code",
   "execution_count": 66,
   "id": "87a70170-60bb-4440-8df5-1dbe63996f35",
   "metadata": {},
   "outputs": [
    {
     "data": {
      "text/plain": [
       "0.890388231390333"
      ]
     },
     "execution_count": 66,
     "metadata": {},
     "output_type": "execute_result"
    }
   ],
   "source": [
    "accuracy_score(y_test,y_pred)"
   ]
  },
  {
   "cell_type": "markdown",
   "id": "1a9f803c-afd4-46f2-b9ce-8154c60bb076",
   "metadata": {},
   "source": [
    "### * Bulding model with LogisticRegression \n",
    "   * The KNeighborsClassifier algorithm is a type of instance-based or lazy learning algorithm used for classification task.\n",
    "   *  KNN can be applied to both classification and regression tasks.\n"
   ]
  },
  {
   "cell_type": "markdown",
   "id": "9b635cc5-b4bb-4944-91c0-f9b8621bca1a",
   "metadata": {},
   "source": [
    "* KNeighborsClassifier() creates an instance of the KNeighborsClassifier algorithm and assigns it to the variable knn."
   ]
  },
  {
   "cell_type": "code",
   "execution_count": 67,
   "id": "e61da3db-5ef6-46a8-879c-e243db3facd4",
   "metadata": {},
   "outputs": [],
   "source": [
    "knn = KNeighborsClassifier(n_neighbors=7)"
   ]
  },
  {
   "cell_type": "markdown",
   "id": "3c24a6f4-eec5-4dc3-be60-2db475ef77ed",
   "metadata": {},
   "source": [
    "* it is used to train (fit) a machine learning model using training data"
   ]
  },
  {
   "cell_type": "code",
   "execution_count": 68,
   "id": "ad13d834-1219-4627-96a5-57088a6a59ef",
   "metadata": {},
   "outputs": [
    {
     "data": {
      "text/html": [
       "<style>#sk-container-id-2 {color: black;}#sk-container-id-2 pre{padding: 0;}#sk-container-id-2 div.sk-toggleable {background-color: white;}#sk-container-id-2 label.sk-toggleable__label {cursor: pointer;display: block;width: 100%;margin-bottom: 0;padding: 0.3em;box-sizing: border-box;text-align: center;}#sk-container-id-2 label.sk-toggleable__label-arrow:before {content: \"▸\";float: left;margin-right: 0.25em;color: #696969;}#sk-container-id-2 label.sk-toggleable__label-arrow:hover:before {color: black;}#sk-container-id-2 div.sk-estimator:hover label.sk-toggleable__label-arrow:before {color: black;}#sk-container-id-2 div.sk-toggleable__content {max-height: 0;max-width: 0;overflow: hidden;text-align: left;background-color: #f0f8ff;}#sk-container-id-2 div.sk-toggleable__content pre {margin: 0.2em;color: black;border-radius: 0.25em;background-color: #f0f8ff;}#sk-container-id-2 input.sk-toggleable__control:checked~div.sk-toggleable__content {max-height: 200px;max-width: 100%;overflow: auto;}#sk-container-id-2 input.sk-toggleable__control:checked~label.sk-toggleable__label-arrow:before {content: \"▾\";}#sk-container-id-2 div.sk-estimator input.sk-toggleable__control:checked~label.sk-toggleable__label {background-color: #d4ebff;}#sk-container-id-2 div.sk-label input.sk-toggleable__control:checked~label.sk-toggleable__label {background-color: #d4ebff;}#sk-container-id-2 input.sk-hidden--visually {border: 0;clip: rect(1px 1px 1px 1px);clip: rect(1px, 1px, 1px, 1px);height: 1px;margin: -1px;overflow: hidden;padding: 0;position: absolute;width: 1px;}#sk-container-id-2 div.sk-estimator {font-family: monospace;background-color: #f0f8ff;border: 1px dotted black;border-radius: 0.25em;box-sizing: border-box;margin-bottom: 0.5em;}#sk-container-id-2 div.sk-estimator:hover {background-color: #d4ebff;}#sk-container-id-2 div.sk-parallel-item::after {content: \"\";width: 100%;border-bottom: 1px solid gray;flex-grow: 1;}#sk-container-id-2 div.sk-label:hover label.sk-toggleable__label {background-color: #d4ebff;}#sk-container-id-2 div.sk-serial::before {content: \"\";position: absolute;border-left: 1px solid gray;box-sizing: border-box;top: 0;bottom: 0;left: 50%;z-index: 0;}#sk-container-id-2 div.sk-serial {display: flex;flex-direction: column;align-items: center;background-color: white;padding-right: 0.2em;padding-left: 0.2em;position: relative;}#sk-container-id-2 div.sk-item {position: relative;z-index: 1;}#sk-container-id-2 div.sk-parallel {display: flex;align-items: stretch;justify-content: center;background-color: white;position: relative;}#sk-container-id-2 div.sk-item::before, #sk-container-id-2 div.sk-parallel-item::before {content: \"\";position: absolute;border-left: 1px solid gray;box-sizing: border-box;top: 0;bottom: 0;left: 50%;z-index: -1;}#sk-container-id-2 div.sk-parallel-item {display: flex;flex-direction: column;z-index: 1;position: relative;background-color: white;}#sk-container-id-2 div.sk-parallel-item:first-child::after {align-self: flex-end;width: 50%;}#sk-container-id-2 div.sk-parallel-item:last-child::after {align-self: flex-start;width: 50%;}#sk-container-id-2 div.sk-parallel-item:only-child::after {width: 0;}#sk-container-id-2 div.sk-dashed-wrapped {border: 1px dashed gray;margin: 0 0.4em 0.5em 0.4em;box-sizing: border-box;padding-bottom: 0.4em;background-color: white;}#sk-container-id-2 div.sk-label label {font-family: monospace;font-weight: bold;display: inline-block;line-height: 1.2em;}#sk-container-id-2 div.sk-label-container {text-align: center;}#sk-container-id-2 div.sk-container {/* jupyter's `normalize.less` sets `[hidden] { display: none; }` but bootstrap.min.css set `[hidden] { display: none !important; }` so we also need the `!important` here to be able to override the default hidden behavior on the sphinx rendered scikit-learn.org. See: https://github.com/scikit-learn/scikit-learn/issues/21755 */display: inline-block !important;position: relative;}#sk-container-id-2 div.sk-text-repr-fallback {display: none;}</style><div id=\"sk-container-id-2\" class=\"sk-top-container\"><div class=\"sk-text-repr-fallback\"><pre>KNeighborsClassifier(n_neighbors=7)</pre><b>In a Jupyter environment, please rerun this cell to show the HTML representation or trust the notebook. <br />On GitHub, the HTML representation is unable to render, please try loading this page with nbviewer.org.</b></div><div class=\"sk-container\" hidden><div class=\"sk-item\"><div class=\"sk-estimator sk-toggleable\"><input class=\"sk-toggleable__control sk-hidden--visually\" id=\"sk-estimator-id-2\" type=\"checkbox\" checked><label for=\"sk-estimator-id-2\" class=\"sk-toggleable__label sk-toggleable__label-arrow\">KNeighborsClassifier</label><div class=\"sk-toggleable__content\"><pre>KNeighborsClassifier(n_neighbors=7)</pre></div></div></div></div></div>"
      ],
      "text/plain": [
       "KNeighborsClassifier(n_neighbors=7)"
      ]
     },
     "execution_count": 68,
     "metadata": {},
     "output_type": "execute_result"
    }
   ],
   "source": [
    "knn.fit(X_train, y_train)"
   ]
  },
  {
   "cell_type": "markdown",
   "id": "b5b04df7-35c1-412a-befb-83d1599481b8",
   "metadata": {},
   "source": [
    "* It is used to make predictions using a trained machine learning model (model) on new, unseen data (X_test)."
   ]
  },
  {
   "cell_type": "code",
   "execution_count": 69,
   "id": "ca77b54a-3608-461e-90e0-4bba131c9388",
   "metadata": {},
   "outputs": [],
   "source": [
    "y_pred = knn.predict(X_test)"
   ]
  },
  {
   "cell_type": "markdown",
   "id": "d352c498-efb4-4f0a-af76-9824156b875a",
   "metadata": {},
   "source": [
    "* This function  calculate the accuracy  model's predictions."
   ]
  },
  {
   "cell_type": "code",
   "execution_count": 70,
   "id": "31fc5fff-b51f-44f9-b73b-7ec8dcd3c457",
   "metadata": {},
   "outputs": [
    {
     "data": {
      "text/plain": [
       "0.886627585444088"
      ]
     },
     "execution_count": 70,
     "metadata": {},
     "output_type": "execute_result"
    }
   ],
   "source": [
    "accuracy_score(y_test, y_pred)"
   ]
  },
  {
   "cell_type": "markdown",
   "id": "b6e63d19-0019-45fc-82d3-6e91f33e852f",
   "metadata": {},
   "source": [
    "### * Bulding model with RandomForestClassifier\n",
    "  * Random Forests often achieve high accuracy in classification tasks. They are robust against overfitting, especially when compared to individual decision trees, because they aggregate predictions from multiple trees (ensemble method).\n",
    "  *  Random Forests can handle missing values in the dataset without requiring imputation."
   ]
  },
  {
   "cell_type": "markdown",
   "id": "a6efa424-f8ee-4879-839f-e30b765a00fe",
   "metadata": {},
   "source": [
    "* RandomForestClassifier() creates an instance of the RandomForestClassifier algorithm and assigns it to the variable RFC."
   ]
  },
  {
   "cell_type": "code",
   "execution_count": 71,
   "id": "7740c6e6-8249-406b-a65c-9c8522510437",
   "metadata": {},
   "outputs": [],
   "source": [
    "rfc=RandomForestClassifier()"
   ]
  },
  {
   "cell_type": "markdown",
   "id": "d6da0c29-96bc-47af-a098-e5a679ca9f63",
   "metadata": {},
   "source": [
    "* it is used to train (fit) a machine learning model using training data"
   ]
  },
  {
   "cell_type": "code",
   "execution_count": 72,
   "id": "fa72e3df-7bba-4b62-a45f-29d7dd47499d",
   "metadata": {},
   "outputs": [
    {
     "data": {
      "text/html": [
       "<style>#sk-container-id-3 {color: black;}#sk-container-id-3 pre{padding: 0;}#sk-container-id-3 div.sk-toggleable {background-color: white;}#sk-container-id-3 label.sk-toggleable__label {cursor: pointer;display: block;width: 100%;margin-bottom: 0;padding: 0.3em;box-sizing: border-box;text-align: center;}#sk-container-id-3 label.sk-toggleable__label-arrow:before {content: \"▸\";float: left;margin-right: 0.25em;color: #696969;}#sk-container-id-3 label.sk-toggleable__label-arrow:hover:before {color: black;}#sk-container-id-3 div.sk-estimator:hover label.sk-toggleable__label-arrow:before {color: black;}#sk-container-id-3 div.sk-toggleable__content {max-height: 0;max-width: 0;overflow: hidden;text-align: left;background-color: #f0f8ff;}#sk-container-id-3 div.sk-toggleable__content pre {margin: 0.2em;color: black;border-radius: 0.25em;background-color: #f0f8ff;}#sk-container-id-3 input.sk-toggleable__control:checked~div.sk-toggleable__content {max-height: 200px;max-width: 100%;overflow: auto;}#sk-container-id-3 input.sk-toggleable__control:checked~label.sk-toggleable__label-arrow:before {content: \"▾\";}#sk-container-id-3 div.sk-estimator input.sk-toggleable__control:checked~label.sk-toggleable__label {background-color: #d4ebff;}#sk-container-id-3 div.sk-label input.sk-toggleable__control:checked~label.sk-toggleable__label {background-color: #d4ebff;}#sk-container-id-3 input.sk-hidden--visually {border: 0;clip: rect(1px 1px 1px 1px);clip: rect(1px, 1px, 1px, 1px);height: 1px;margin: -1px;overflow: hidden;padding: 0;position: absolute;width: 1px;}#sk-container-id-3 div.sk-estimator {font-family: monospace;background-color: #f0f8ff;border: 1px dotted black;border-radius: 0.25em;box-sizing: border-box;margin-bottom: 0.5em;}#sk-container-id-3 div.sk-estimator:hover {background-color: #d4ebff;}#sk-container-id-3 div.sk-parallel-item::after {content: \"\";width: 100%;border-bottom: 1px solid gray;flex-grow: 1;}#sk-container-id-3 div.sk-label:hover label.sk-toggleable__label {background-color: #d4ebff;}#sk-container-id-3 div.sk-serial::before {content: \"\";position: absolute;border-left: 1px solid gray;box-sizing: border-box;top: 0;bottom: 0;left: 50%;z-index: 0;}#sk-container-id-3 div.sk-serial {display: flex;flex-direction: column;align-items: center;background-color: white;padding-right: 0.2em;padding-left: 0.2em;position: relative;}#sk-container-id-3 div.sk-item {position: relative;z-index: 1;}#sk-container-id-3 div.sk-parallel {display: flex;align-items: stretch;justify-content: center;background-color: white;position: relative;}#sk-container-id-3 div.sk-item::before, #sk-container-id-3 div.sk-parallel-item::before {content: \"\";position: absolute;border-left: 1px solid gray;box-sizing: border-box;top: 0;bottom: 0;left: 50%;z-index: -1;}#sk-container-id-3 div.sk-parallel-item {display: flex;flex-direction: column;z-index: 1;position: relative;background-color: white;}#sk-container-id-3 div.sk-parallel-item:first-child::after {align-self: flex-end;width: 50%;}#sk-container-id-3 div.sk-parallel-item:last-child::after {align-self: flex-start;width: 50%;}#sk-container-id-3 div.sk-parallel-item:only-child::after {width: 0;}#sk-container-id-3 div.sk-dashed-wrapped {border: 1px dashed gray;margin: 0 0.4em 0.5em 0.4em;box-sizing: border-box;padding-bottom: 0.4em;background-color: white;}#sk-container-id-3 div.sk-label label {font-family: monospace;font-weight: bold;display: inline-block;line-height: 1.2em;}#sk-container-id-3 div.sk-label-container {text-align: center;}#sk-container-id-3 div.sk-container {/* jupyter's `normalize.less` sets `[hidden] { display: none; }` but bootstrap.min.css set `[hidden] { display: none !important; }` so we also need the `!important` here to be able to override the default hidden behavior on the sphinx rendered scikit-learn.org. See: https://github.com/scikit-learn/scikit-learn/issues/21755 */display: inline-block !important;position: relative;}#sk-container-id-3 div.sk-text-repr-fallback {display: none;}</style><div id=\"sk-container-id-3\" class=\"sk-top-container\"><div class=\"sk-text-repr-fallback\"><pre>RandomForestClassifier()</pre><b>In a Jupyter environment, please rerun this cell to show the HTML representation or trust the notebook. <br />On GitHub, the HTML representation is unable to render, please try loading this page with nbviewer.org.</b></div><div class=\"sk-container\" hidden><div class=\"sk-item\"><div class=\"sk-estimator sk-toggleable\"><input class=\"sk-toggleable__control sk-hidden--visually\" id=\"sk-estimator-id-3\" type=\"checkbox\" checked><label for=\"sk-estimator-id-3\" class=\"sk-toggleable__label sk-toggleable__label-arrow\">RandomForestClassifier</label><div class=\"sk-toggleable__content\"><pre>RandomForestClassifier()</pre></div></div></div></div></div>"
      ],
      "text/plain": [
       "RandomForestClassifier()"
      ]
     },
     "execution_count": 72,
     "metadata": {},
     "output_type": "execute_result"
    }
   ],
   "source": [
    "rfc.fit(X_train,y_train)"
   ]
  },
  {
   "cell_type": "markdown",
   "id": "d323f21f-4069-4932-9ded-a638ac8c479d",
   "metadata": {},
   "source": [
    "* It is used to make predictions using a trained machine learning model (model) on new, unseen data (X_test)."
   ]
  },
  {
   "cell_type": "code",
   "execution_count": 73,
   "id": "bd1f14da-b86f-4b54-b3c5-94e8ff70d6ae",
   "metadata": {},
   "outputs": [],
   "source": [
    "y_pr=rfc.predict(X_test)"
   ]
  },
  {
   "cell_type": "markdown",
   "id": "0e36198a-bb1f-4520-a97a-824623ba3aad",
   "metadata": {},
   "source": [
    "* This function  calculate the accuracy  model's predictions."
   ]
  },
  {
   "cell_type": "code",
   "execution_count": 74,
   "id": "866425f8-6210-4a43-bbd9-647534bfc168",
   "metadata": {},
   "outputs": [
    {
     "data": {
      "text/plain": [
       "0.9065368875124433"
      ]
     },
     "execution_count": 74,
     "metadata": {},
     "output_type": "execute_result"
    }
   ],
   "source": [
    "accuracy_score(y_test,y_pr)"
   ]
  },
  {
   "cell_type": "markdown",
   "id": "ce2e8fc7-af56-4f23-9e48-07f25c6f8e3b",
   "metadata": {},
   "source": [
    "### * Bulding model with Decision TreeRegressor\n",
    "   * Decision trees can handle both numerical and categorical data without requiring one-hot encoding for categorical variables.\n",
    "   * Decision trees are less sensitive to outliers and missing values compared to some other algorithms, reducing the need for extensive data preprocessing."
   ]
  },
  {
   "cell_type": "markdown",
   "id": "ca0bda1f-8acf-438f-98b9-ae7fddd97c4e",
   "metadata": {},
   "source": [
    "* DecisionTreeRegressor() creates an instance of the DecisionTreeRegressor algorithm and assigns it to the variable dtr."
   ]
  },
  {
   "cell_type": "code",
   "execution_count": 75,
   "id": "e8819e05-2e09-4f4f-be88-9c20d413446e",
   "metadata": {},
   "outputs": [],
   "source": [
    "dtr=DecisionTreeRegressor()"
   ]
  },
  {
   "cell_type": "markdown",
   "id": "3c8258cb-4276-442a-8e69-043530a6b284",
   "metadata": {},
   "source": [
    "* it is used to train (fit) a machine learning model using training data"
   ]
  },
  {
   "cell_type": "code",
   "execution_count": 76,
   "id": "5a30cb3a-3c77-4cfb-87dc-2f5f7d64dca5",
   "metadata": {},
   "outputs": [
    {
     "data": {
      "text/html": [
       "<style>#sk-container-id-4 {color: black;}#sk-container-id-4 pre{padding: 0;}#sk-container-id-4 div.sk-toggleable {background-color: white;}#sk-container-id-4 label.sk-toggleable__label {cursor: pointer;display: block;width: 100%;margin-bottom: 0;padding: 0.3em;box-sizing: border-box;text-align: center;}#sk-container-id-4 label.sk-toggleable__label-arrow:before {content: \"▸\";float: left;margin-right: 0.25em;color: #696969;}#sk-container-id-4 label.sk-toggleable__label-arrow:hover:before {color: black;}#sk-container-id-4 div.sk-estimator:hover label.sk-toggleable__label-arrow:before {color: black;}#sk-container-id-4 div.sk-toggleable__content {max-height: 0;max-width: 0;overflow: hidden;text-align: left;background-color: #f0f8ff;}#sk-container-id-4 div.sk-toggleable__content pre {margin: 0.2em;color: black;border-radius: 0.25em;background-color: #f0f8ff;}#sk-container-id-4 input.sk-toggleable__control:checked~div.sk-toggleable__content {max-height: 200px;max-width: 100%;overflow: auto;}#sk-container-id-4 input.sk-toggleable__control:checked~label.sk-toggleable__label-arrow:before {content: \"▾\";}#sk-container-id-4 div.sk-estimator input.sk-toggleable__control:checked~label.sk-toggleable__label {background-color: #d4ebff;}#sk-container-id-4 div.sk-label input.sk-toggleable__control:checked~label.sk-toggleable__label {background-color: #d4ebff;}#sk-container-id-4 input.sk-hidden--visually {border: 0;clip: rect(1px 1px 1px 1px);clip: rect(1px, 1px, 1px, 1px);height: 1px;margin: -1px;overflow: hidden;padding: 0;position: absolute;width: 1px;}#sk-container-id-4 div.sk-estimator {font-family: monospace;background-color: #f0f8ff;border: 1px dotted black;border-radius: 0.25em;box-sizing: border-box;margin-bottom: 0.5em;}#sk-container-id-4 div.sk-estimator:hover {background-color: #d4ebff;}#sk-container-id-4 div.sk-parallel-item::after {content: \"\";width: 100%;border-bottom: 1px solid gray;flex-grow: 1;}#sk-container-id-4 div.sk-label:hover label.sk-toggleable__label {background-color: #d4ebff;}#sk-container-id-4 div.sk-serial::before {content: \"\";position: absolute;border-left: 1px solid gray;box-sizing: border-box;top: 0;bottom: 0;left: 50%;z-index: 0;}#sk-container-id-4 div.sk-serial {display: flex;flex-direction: column;align-items: center;background-color: white;padding-right: 0.2em;padding-left: 0.2em;position: relative;}#sk-container-id-4 div.sk-item {position: relative;z-index: 1;}#sk-container-id-4 div.sk-parallel {display: flex;align-items: stretch;justify-content: center;background-color: white;position: relative;}#sk-container-id-4 div.sk-item::before, #sk-container-id-4 div.sk-parallel-item::before {content: \"\";position: absolute;border-left: 1px solid gray;box-sizing: border-box;top: 0;bottom: 0;left: 50%;z-index: -1;}#sk-container-id-4 div.sk-parallel-item {display: flex;flex-direction: column;z-index: 1;position: relative;background-color: white;}#sk-container-id-4 div.sk-parallel-item:first-child::after {align-self: flex-end;width: 50%;}#sk-container-id-4 div.sk-parallel-item:last-child::after {align-self: flex-start;width: 50%;}#sk-container-id-4 div.sk-parallel-item:only-child::after {width: 0;}#sk-container-id-4 div.sk-dashed-wrapped {border: 1px dashed gray;margin: 0 0.4em 0.5em 0.4em;box-sizing: border-box;padding-bottom: 0.4em;background-color: white;}#sk-container-id-4 div.sk-label label {font-family: monospace;font-weight: bold;display: inline-block;line-height: 1.2em;}#sk-container-id-4 div.sk-label-container {text-align: center;}#sk-container-id-4 div.sk-container {/* jupyter's `normalize.less` sets `[hidden] { display: none; }` but bootstrap.min.css set `[hidden] { display: none !important; }` so we also need the `!important` here to be able to override the default hidden behavior on the sphinx rendered scikit-learn.org. See: https://github.com/scikit-learn/scikit-learn/issues/21755 */display: inline-block !important;position: relative;}#sk-container-id-4 div.sk-text-repr-fallback {display: none;}</style><div id=\"sk-container-id-4\" class=\"sk-top-container\"><div class=\"sk-text-repr-fallback\"><pre>DecisionTreeRegressor()</pre><b>In a Jupyter environment, please rerun this cell to show the HTML representation or trust the notebook. <br />On GitHub, the HTML representation is unable to render, please try loading this page with nbviewer.org.</b></div><div class=\"sk-container\" hidden><div class=\"sk-item\"><div class=\"sk-estimator sk-toggleable\"><input class=\"sk-toggleable__control sk-hidden--visually\" id=\"sk-estimator-id-4\" type=\"checkbox\" checked><label for=\"sk-estimator-id-4\" class=\"sk-toggleable__label sk-toggleable__label-arrow\">DecisionTreeRegressor</label><div class=\"sk-toggleable__content\"><pre>DecisionTreeRegressor()</pre></div></div></div></div></div>"
      ],
      "text/plain": [
       "DecisionTreeRegressor()"
      ]
     },
     "execution_count": 76,
     "metadata": {},
     "output_type": "execute_result"
    }
   ],
   "source": [
    "dtr.fit(X_train,y_train)"
   ]
  },
  {
   "cell_type": "markdown",
   "id": "b39cd586-558a-4ecb-9dee-33a3bf0170ba",
   "metadata": {},
   "source": [
    "* It is used to make predictions using a trained machine learning model (model) on new, unseen data (X_test)."
   ]
  },
  {
   "cell_type": "code",
   "execution_count": 77,
   "id": "82695653-74d1-4e08-b7d4-a051914a1bee",
   "metadata": {},
   "outputs": [],
   "source": [
    "y_pred=dtr.predict(X_test)"
   ]
  },
  {
   "cell_type": "markdown",
   "id": "65ae7ac0-88b7-434e-8823-963f68e2f12b",
   "metadata": {},
   "source": [
    "* This function  calculate the accuracy  model's predictions."
   ]
  },
  {
   "cell_type": "code",
   "execution_count": 78,
   "id": "19b0b254-940c-46b1-a99a-7fa9e11e8e96",
   "metadata": {},
   "outputs": [
    {
     "data": {
      "text/plain": [
       "0.8724698595288132"
      ]
     },
     "execution_count": 78,
     "metadata": {},
     "output_type": "execute_result"
    }
   ],
   "source": [
    "accuracy_score(y_test,y_pred)"
   ]
  },
  {
   "cell_type": "markdown",
   "id": "31df5994-a2ab-4670-8456-7b7caa293a31",
   "metadata": {},
   "source": [
    "### * Bulding model with Linear Regression\n",
    "   * Linear Regression provides straightforward interpretability as the relationship between the independent variables and the dependent variable is represented by coefficients.\n",
    "   * Training and making predictions with Linear Regression are computationally efficient, especially for large datasets with many features.ta"
   ]
  },
  {
   "cell_type": "markdown",
   "id": "07602093-4d6d-4579-b4ba-b8d31570a508",
   "metadata": {},
   "source": [
    "* LinearRegression() creates an instance of the Linear Regression algorithm and assigns it to the variable LR."
   ]
  },
  {
   "cell_type": "code",
   "execution_count": 79,
   "id": "06c9adf2-a872-4790-ac65-b563cfc1a89d",
   "metadata": {},
   "outputs": [],
   "source": [
    "lr2=LinearRegression()"
   ]
  },
  {
   "cell_type": "markdown",
   "id": "05c50fe2-234e-4b98-8467-c03b391e7a48",
   "metadata": {},
   "source": [
    "* it is used to train (fit) a machine learning model using training data"
   ]
  },
  {
   "cell_type": "code",
   "execution_count": 80,
   "id": "4b09b7e3-7f16-41fb-a3a7-0034a71f6cb8",
   "metadata": {},
   "outputs": [
    {
     "data": {
      "text/html": [
       "<style>#sk-container-id-5 {color: black;}#sk-container-id-5 pre{padding: 0;}#sk-container-id-5 div.sk-toggleable {background-color: white;}#sk-container-id-5 label.sk-toggleable__label {cursor: pointer;display: block;width: 100%;margin-bottom: 0;padding: 0.3em;box-sizing: border-box;text-align: center;}#sk-container-id-5 label.sk-toggleable__label-arrow:before {content: \"▸\";float: left;margin-right: 0.25em;color: #696969;}#sk-container-id-5 label.sk-toggleable__label-arrow:hover:before {color: black;}#sk-container-id-5 div.sk-estimator:hover label.sk-toggleable__label-arrow:before {color: black;}#sk-container-id-5 div.sk-toggleable__content {max-height: 0;max-width: 0;overflow: hidden;text-align: left;background-color: #f0f8ff;}#sk-container-id-5 div.sk-toggleable__content pre {margin: 0.2em;color: black;border-radius: 0.25em;background-color: #f0f8ff;}#sk-container-id-5 input.sk-toggleable__control:checked~div.sk-toggleable__content {max-height: 200px;max-width: 100%;overflow: auto;}#sk-container-id-5 input.sk-toggleable__control:checked~label.sk-toggleable__label-arrow:before {content: \"▾\";}#sk-container-id-5 div.sk-estimator input.sk-toggleable__control:checked~label.sk-toggleable__label {background-color: #d4ebff;}#sk-container-id-5 div.sk-label input.sk-toggleable__control:checked~label.sk-toggleable__label {background-color: #d4ebff;}#sk-container-id-5 input.sk-hidden--visually {border: 0;clip: rect(1px 1px 1px 1px);clip: rect(1px, 1px, 1px, 1px);height: 1px;margin: -1px;overflow: hidden;padding: 0;position: absolute;width: 1px;}#sk-container-id-5 div.sk-estimator {font-family: monospace;background-color: #f0f8ff;border: 1px dotted black;border-radius: 0.25em;box-sizing: border-box;margin-bottom: 0.5em;}#sk-container-id-5 div.sk-estimator:hover {background-color: #d4ebff;}#sk-container-id-5 div.sk-parallel-item::after {content: \"\";width: 100%;border-bottom: 1px solid gray;flex-grow: 1;}#sk-container-id-5 div.sk-label:hover label.sk-toggleable__label {background-color: #d4ebff;}#sk-container-id-5 div.sk-serial::before {content: \"\";position: absolute;border-left: 1px solid gray;box-sizing: border-box;top: 0;bottom: 0;left: 50%;z-index: 0;}#sk-container-id-5 div.sk-serial {display: flex;flex-direction: column;align-items: center;background-color: white;padding-right: 0.2em;padding-left: 0.2em;position: relative;}#sk-container-id-5 div.sk-item {position: relative;z-index: 1;}#sk-container-id-5 div.sk-parallel {display: flex;align-items: stretch;justify-content: center;background-color: white;position: relative;}#sk-container-id-5 div.sk-item::before, #sk-container-id-5 div.sk-parallel-item::before {content: \"\";position: absolute;border-left: 1px solid gray;box-sizing: border-box;top: 0;bottom: 0;left: 50%;z-index: -1;}#sk-container-id-5 div.sk-parallel-item {display: flex;flex-direction: column;z-index: 1;position: relative;background-color: white;}#sk-container-id-5 div.sk-parallel-item:first-child::after {align-self: flex-end;width: 50%;}#sk-container-id-5 div.sk-parallel-item:last-child::after {align-self: flex-start;width: 50%;}#sk-container-id-5 div.sk-parallel-item:only-child::after {width: 0;}#sk-container-id-5 div.sk-dashed-wrapped {border: 1px dashed gray;margin: 0 0.4em 0.5em 0.4em;box-sizing: border-box;padding-bottom: 0.4em;background-color: white;}#sk-container-id-5 div.sk-label label {font-family: monospace;font-weight: bold;display: inline-block;line-height: 1.2em;}#sk-container-id-5 div.sk-label-container {text-align: center;}#sk-container-id-5 div.sk-container {/* jupyter's `normalize.less` sets `[hidden] { display: none; }` but bootstrap.min.css set `[hidden] { display: none !important; }` so we also need the `!important` here to be able to override the default hidden behavior on the sphinx rendered scikit-learn.org. See: https://github.com/scikit-learn/scikit-learn/issues/21755 */display: inline-block !important;position: relative;}#sk-container-id-5 div.sk-text-repr-fallback {display: none;}</style><div id=\"sk-container-id-5\" class=\"sk-top-container\"><div class=\"sk-text-repr-fallback\"><pre>LinearRegression()</pre><b>In a Jupyter environment, please rerun this cell to show the HTML representation or trust the notebook. <br />On GitHub, the HTML representation is unable to render, please try loading this page with nbviewer.org.</b></div><div class=\"sk-container\" hidden><div class=\"sk-item\"><div class=\"sk-estimator sk-toggleable\"><input class=\"sk-toggleable__control sk-hidden--visually\" id=\"sk-estimator-id-5\" type=\"checkbox\" checked><label for=\"sk-estimator-id-5\" class=\"sk-toggleable__label sk-toggleable__label-arrow\">LinearRegression</label><div class=\"sk-toggleable__content\"><pre>LinearRegression()</pre></div></div></div></div></div>"
      ],
      "text/plain": [
       "LinearRegression()"
      ]
     },
     "execution_count": 80,
     "metadata": {},
     "output_type": "execute_result"
    }
   ],
   "source": [
    "lr2.fit(X_train,y_train)"
   ]
  },
  {
   "cell_type": "markdown",
   "id": "88aef4f3-3834-40a5-b314-64fca99bc107",
   "metadata": {},
   "source": [
    "* It is used to make predictions using a trained machine learning model (model) on new, unseen data (X_test)."
   ]
  },
  {
   "cell_type": "code",
   "execution_count": 81,
   "id": "793bc8b7-5655-42a8-8650-9c217b63dadc",
   "metadata": {},
   "outputs": [],
   "source": [
    "y_pred=lr2.predict(X_test)"
   ]
  },
  {
   "cell_type": "markdown",
   "id": "2baab4ee-1d4c-4226-871b-fce3bb35c203",
   "metadata": {},
   "source": [
    "* function calculates the coefficient of determination (R-squared) to evaluate the performance of a regression model"
   ]
  },
  {
   "cell_type": "code",
   "execution_count": 82,
   "id": "56ccd75d-3725-4fd2-84b8-610c5f7220a5",
   "metadata": {},
   "outputs": [
    {
     "data": {
      "text/plain": [
       "0.1713788779024099"
      ]
     },
     "execution_count": 82,
     "metadata": {},
     "output_type": "execute_result"
    }
   ],
   "source": [
    "r2_score(y_test,y_pred)"
   ]
  },
  {
   "cell_type": "markdown",
   "id": "c62d4474-62f4-4626-9b33-a43e23b6efaa",
   "metadata": {},
   "source": [
    "### **Conclusion**\n",
    "* #### After doing all tha analysis and model fiting  i can say Random Forest has a higher accuracy, so it is a better model."
   ]
  },
  {
   "cell_type": "code",
   "execution_count": null,
   "id": "ddd50bdd-aa89-42f8-beec-9547ee1ccb13",
   "metadata": {},
   "outputs": [],
   "source": []
  },
  {
   "cell_type": "code",
   "execution_count": 102,
   "id": "dd341919-96e8-4083-a588-a34c216ea6f9",
   "metadata": {},
   "outputs": [],
   "source": [
    "m = []\n",
    "for model in [lr, dtr, rfc, knn,lr2]:\n",
    "    model.fit(X_train, y_train)\n",
    "    y_pred = model.predict(X_test)\n",
    "    r2 = r2_score(y_test, y_pred)\n",
    "    mse = mean_squared_error(y_test, y_pred)\n",
    "    m.append({\"Model\": str(model), \"R2 Score\": r2, \"Mean Squared Error\": mse})"
   ]
  },
  {
   "cell_type": "code",
   "execution_count": 103,
   "id": "c508fc40-a4c0-48d8-ba68-8e8892a69dbe",
   "metadata": {},
   "outputs": [
    {
     "data": {
      "text/plain": [
       "[{'Model': 'LogisticRegression()',\n",
       "  'R2 Score': -0.09418312690360287,\n",
       "  'Mean Squared Error': 0.10961176860966708},\n",
       " {'Model': 'DecisionTreeRegressor()',\n",
       "  'R2 Score': -0.2620093986385652,\n",
       "  'Mean Squared Error': 0.12642406813405596},\n",
       " {'Model': 'RandomForestClassifier()',\n",
       "  'R2 Score': 0.05597722149083706,\n",
       "  'Mean Squared Error': 0.09456918482468754},\n",
       " {'Model': 'KNeighborsClassifier(n_neighbors=7)',\n",
       "  'R2 Score': -0.13172321400221287,\n",
       "  'Mean Squared Error': 0.11337241455591196},\n",
       " {'Model': 'LinearRegression()',\n",
       "  'R2 Score': 0.1713788779024099,\n",
       "  'Mean Squared Error': 0.08300861571268364}]"
      ]
     },
     "execution_count": 103,
     "metadata": {},
     "output_type": "execute_result"
    }
   ],
   "source": [
    "m"
   ]
  },
  {
   "cell_type": "code",
   "execution_count": 104,
   "id": "e9d3bab9-24f4-4921-846e-a3a1181cbdd5",
   "metadata": {},
   "outputs": [],
   "source": [
    "model_details = pd.DataFrame(m)"
   ]
  },
  {
   "cell_type": "code",
   "execution_count": 105,
   "id": "ef90919f-6c9d-472c-8359-1128e7f6d401",
   "metadata": {},
   "outputs": [
    {
     "data": {
      "text/html": [
       "<div>\n",
       "<style scoped>\n",
       "    .dataframe tbody tr th:only-of-type {\n",
       "        vertical-align: middle;\n",
       "    }\n",
       "\n",
       "    .dataframe tbody tr th {\n",
       "        vertical-align: top;\n",
       "    }\n",
       "\n",
       "    .dataframe thead th {\n",
       "        text-align: right;\n",
       "    }\n",
       "</style>\n",
       "<table border=\"1\" class=\"dataframe\">\n",
       "  <thead>\n",
       "    <tr style=\"text-align: right;\">\n",
       "      <th></th>\n",
       "      <th>Model</th>\n",
       "      <th>R2 Score</th>\n",
       "      <th>Mean Squared Error</th>\n",
       "    </tr>\n",
       "  </thead>\n",
       "  <tbody>\n",
       "    <tr>\n",
       "      <th>0</th>\n",
       "      <td>LogisticRegression()</td>\n",
       "      <td>-0.094183</td>\n",
       "      <td>0.109612</td>\n",
       "    </tr>\n",
       "    <tr>\n",
       "      <th>1</th>\n",
       "      <td>DecisionTreeRegressor()</td>\n",
       "      <td>-0.262009</td>\n",
       "      <td>0.126424</td>\n",
       "    </tr>\n",
       "    <tr>\n",
       "      <th>2</th>\n",
       "      <td>RandomForestClassifier()</td>\n",
       "      <td>0.055977</td>\n",
       "      <td>0.094569</td>\n",
       "    </tr>\n",
       "    <tr>\n",
       "      <th>3</th>\n",
       "      <td>KNeighborsClassifier(n_neighbors=7)</td>\n",
       "      <td>-0.131723</td>\n",
       "      <td>0.113372</td>\n",
       "    </tr>\n",
       "    <tr>\n",
       "      <th>4</th>\n",
       "      <td>LinearRegression()</td>\n",
       "      <td>0.171379</td>\n",
       "      <td>0.083009</td>\n",
       "    </tr>\n",
       "  </tbody>\n",
       "</table>\n",
       "</div>"
      ],
      "text/plain": [
       "                                 Model  R2 Score  Mean Squared Error\n",
       "0                 LogisticRegression() -0.094183            0.109612\n",
       "1              DecisionTreeRegressor() -0.262009            0.126424\n",
       "2             RandomForestClassifier()  0.055977            0.094569\n",
       "3  KNeighborsClassifier(n_neighbors=7) -0.131723            0.113372\n",
       "4                   LinearRegression()  0.171379            0.083009"
      ]
     },
     "execution_count": 105,
     "metadata": {},
     "output_type": "execute_result"
    }
   ],
   "source": [
    "model_details"
   ]
  },
  {
   "cell_type": "code",
   "execution_count": null,
   "id": "122977a5-8e3b-45fa-ac30-70c0e9969aa5",
   "metadata": {},
   "outputs": [],
   "source": []
  }
 ],
 "metadata": {
  "kernelspec": {
   "display_name": "Python 3 (ipykernel)",
   "language": "python",
   "name": "python3"
  },
  "language_info": {
   "codemirror_mode": {
    "name": "ipython",
    "version": 3
   },
   "file_extension": ".py",
   "mimetype": "text/x-python",
   "name": "python",
   "nbconvert_exporter": "python",
   "pygments_lexer": "ipython3",
   "version": "3.11.1"
  }
 },
 "nbformat": 4,
 "nbformat_minor": 5
}
